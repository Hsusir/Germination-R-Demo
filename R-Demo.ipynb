{
 "cells": [
  {
   "cell_type": "markdown",
   "metadata": {},
   "source": [
    "# R-Demo\n",
    "## 許sir \n",
    "## Sep. 05. 2018 at STPI "
   ]
  },
  {
   "cell_type": "markdown",
   "metadata": {},
   "source": [
    "## [課程內容]\n",
    "- A: R的資料匯入與輸出\n",
    "- B: Descriptive Statistics.\n",
    "- C: Basic Visualization\n",
    "- D: Data ETL\n",
    "- E: Social Network in R (Another Chapter)"
   ]
  },
  {
   "cell_type": "markdown",
   "metadata": {},
   "source": [
    "# [PART 1]. R的資料匯入與輸出\n",
    "\n",
    "- 請特別注意你的作業系統\n",
    "- windows / Mac / Linux 的路徑表示方法都不同\n",
    "- 同時若你採用 Anaconda , 請注意你啟動的位置\n",
    "- 若你採用R 或 R-Studio, 請採用下列 setwd()"
   ]
  },
  {
   "cell_type": "code",
   "execution_count": 1,
   "metadata": {},
   "outputs": [],
   "source": [
    "#getwd()  #顯示目前的工作資料夾 \n",
    "#setwd()  #設定工作資料夾\n",
    "#set working directory的簡寫。要指定工作資料夾，必須要告訴R路徑。本例是將R的工作資料夾指定為c磁碟機中的downloads。要注意路經前後要加上\" \"。現在可以再用getwd()來看看工作資料夾是否已設定完成。"
   ]
  },
  {
   "cell_type": "code",
   "execution_count": 2,
   "metadata": {},
   "outputs": [],
   "source": [
    "#如果你是windows 的使用者, 請先設定你的工作資料夾\n",
    "#setwd(\"d:/Rdata Practice/\")\n",
    "#babies = read.csv(\"d:/Rdata Practice/babies.csv\")   "
   ]
  },
  {
   "cell_type": "markdown",
   "metadata": {},
   "source": [
    "### 1-1.如果我的檔案是.csv檔¶\n",
    "匯入 CSV 檔的時候會碰到一種比較特別的問題，就是作業系統編碼不同的問題，Windows 的中文編碼是 big5，而 Linux / Mac 都是 UTF-8，所以在 Linux / Mac 匯入來自於 Windows CSV 檔常常會發生亂碼，那該如何解決此問題，本人的做法是將資料讀進來轉成 UTF-8，在輸出一份 CSV 檔，以下先以一個 CSV 檔為主，加以調整修改就可以改成一次跑一個資料夾下的所有 CSV 檔。"
   ]
  },
  {
   "cell_type": "code",
   "execution_count": 3,
   "metadata": {},
   "outputs": [
    {
     "name": "stdout",
     "output_type": "stream",
     "text": [
      "'data.frame':\t1236 obs. of  7 variables:\n",
      " $ bwt      : int  120 113 128 123 108 136 138 132 120 143 ...\n",
      " $ gestation: int  284 282 279 NA 282 286 244 245 289 299 ...\n",
      " $ parity   : int  0 0 0 0 0 0 0 0 0 0 ...\n",
      " $ age      : int  27 33 28 36 23 25 33 23 25 30 ...\n",
      " $ height   : int  62 64 64 69 67 62 62 65 62 66 ...\n",
      " $ weight   : int  100 135 115 190 125 93 178 140 125 136 ...\n",
      " $ smoke    : int  0 0 1 0 1 0 0 0 0 1 ...\n"
     ]
    }
   ],
   "source": [
    "\n",
    "babies <- read.csv(\"babies.csv\", header = TRUE, sep = \",\")   #把babies.csv 叫進來\n",
    "str(babies)                 #把babies資料的屬性show出來"
   ]
  },
  {
   "cell_type": "code",
   "execution_count": 4,
   "metadata": {},
   "outputs": [
    {
     "data": {
      "text/html": [
       "<table>\n",
       "<thead><tr><th scope=col>bwt</th><th scope=col>gestation</th><th scope=col>parity</th><th scope=col>age</th><th scope=col>height</th><th scope=col>weight</th><th scope=col>smoke</th></tr></thead>\n",
       "<tbody>\n",
       "\t<tr><td>120</td><td>284</td><td>0  </td><td>27 </td><td>62 </td><td>100</td><td>0  </td></tr>\n",
       "\t<tr><td>113</td><td>282</td><td>0  </td><td>33 </td><td>64 </td><td>135</td><td>0  </td></tr>\n",
       "\t<tr><td>128</td><td>279</td><td>0  </td><td>28 </td><td>64 </td><td>115</td><td>1  </td></tr>\n",
       "\t<tr><td>123</td><td> NA</td><td>0  </td><td>36 </td><td>69 </td><td>190</td><td>0  </td></tr>\n",
       "\t<tr><td>108</td><td>282</td><td>0  </td><td>23 </td><td>67 </td><td>125</td><td>1  </td></tr>\n",
       "\t<tr><td>136</td><td>286</td><td>0  </td><td>25 </td><td>62 </td><td> 93</td><td>0  </td></tr>\n",
       "\t<tr><td>138</td><td>244</td><td>0  </td><td>33 </td><td>62 </td><td>178</td><td>0  </td></tr>\n",
       "\t<tr><td>132</td><td>245</td><td>0  </td><td>23 </td><td>65 </td><td>140</td><td>0  </td></tr>\n",
       "\t<tr><td>120</td><td>289</td><td>0  </td><td>25 </td><td>62 </td><td>125</td><td>0  </td></tr>\n",
       "\t<tr><td>143</td><td>299</td><td>0  </td><td>30 </td><td>66 </td><td>136</td><td>1  </td></tr>\n",
       "\t<tr><td>140</td><td>351</td><td>0  </td><td>27 </td><td>68 </td><td>120</td><td>0  </td></tr>\n",
       "\t<tr><td>144</td><td>282</td><td>0  </td><td>32 </td><td>64 </td><td>124</td><td>1  </td></tr>\n",
       "\t<tr><td>141</td><td>279</td><td>0  </td><td>23 </td><td>63 </td><td>128</td><td>1  </td></tr>\n",
       "\t<tr><td>110</td><td>281</td><td>0  </td><td>36 </td><td>61 </td><td> 99</td><td>1  </td></tr>\n",
       "\t<tr><td>114</td><td>273</td><td>0  </td><td>30 </td><td>63 </td><td>154</td><td>0  </td></tr>\n",
       "</tbody>\n",
       "</table>\n"
      ],
      "text/latex": [
       "\\begin{tabular}{r|lllllll}\n",
       " bwt & gestation & parity & age & height & weight & smoke\\\\\n",
       "\\hline\n",
       "\t 120 & 284 & 0   & 27  & 62  & 100 & 0  \\\\\n",
       "\t 113 & 282 & 0   & 33  & 64  & 135 & 0  \\\\\n",
       "\t 128 & 279 & 0   & 28  & 64  & 115 & 1  \\\\\n",
       "\t 123 &  NA & 0   & 36  & 69  & 190 & 0  \\\\\n",
       "\t 108 & 282 & 0   & 23  & 67  & 125 & 1  \\\\\n",
       "\t 136 & 286 & 0   & 25  & 62  &  93 & 0  \\\\\n",
       "\t 138 & 244 & 0   & 33  & 62  & 178 & 0  \\\\\n",
       "\t 132 & 245 & 0   & 23  & 65  & 140 & 0  \\\\\n",
       "\t 120 & 289 & 0   & 25  & 62  & 125 & 0  \\\\\n",
       "\t 143 & 299 & 0   & 30  & 66  & 136 & 1  \\\\\n",
       "\t 140 & 351 & 0   & 27  & 68  & 120 & 0  \\\\\n",
       "\t 144 & 282 & 0   & 32  & 64  & 124 & 1  \\\\\n",
       "\t 141 & 279 & 0   & 23  & 63  & 128 & 1  \\\\\n",
       "\t 110 & 281 & 0   & 36  & 61  &  99 & 1  \\\\\n",
       "\t 114 & 273 & 0   & 30  & 63  & 154 & 0  \\\\\n",
       "\\end{tabular}\n"
      ],
      "text/markdown": [
       "\n",
       "bwt | gestation | parity | age | height | weight | smoke | \n",
       "|---|---|---|---|---|---|---|---|---|---|---|---|---|---|---|\n",
       "| 120 | 284 | 0   | 27  | 62  | 100 | 0   | \n",
       "| 113 | 282 | 0   | 33  | 64  | 135 | 0   | \n",
       "| 128 | 279 | 0   | 28  | 64  | 115 | 1   | \n",
       "| 123 |  NA | 0   | 36  | 69  | 190 | 0   | \n",
       "| 108 | 282 | 0   | 23  | 67  | 125 | 1   | \n",
       "| 136 | 286 | 0   | 25  | 62  |  93 | 0   | \n",
       "| 138 | 244 | 0   | 33  | 62  | 178 | 0   | \n",
       "| 132 | 245 | 0   | 23  | 65  | 140 | 0   | \n",
       "| 120 | 289 | 0   | 25  | 62  | 125 | 0   | \n",
       "| 143 | 299 | 0   | 30  | 66  | 136 | 1   | \n",
       "| 140 | 351 | 0   | 27  | 68  | 120 | 0   | \n",
       "| 144 | 282 | 0   | 32  | 64  | 124 | 1   | \n",
       "| 141 | 279 | 0   | 23  | 63  | 128 | 1   | \n",
       "| 110 | 281 | 0   | 36  | 61  |  99 | 1   | \n",
       "| 114 | 273 | 0   | 30  | 63  | 154 | 0   | \n",
       "\n",
       "\n"
      ],
      "text/plain": [
       "   bwt gestation parity age height weight smoke\n",
       "1  120 284       0      27  62     100    0    \n",
       "2  113 282       0      33  64     135    0    \n",
       "3  128 279       0      28  64     115    1    \n",
       "4  123  NA       0      36  69     190    0    \n",
       "5  108 282       0      23  67     125    1    \n",
       "6  136 286       0      25  62      93    0    \n",
       "7  138 244       0      33  62     178    0    \n",
       "8  132 245       0      23  65     140    0    \n",
       "9  120 289       0      25  62     125    0    \n",
       "10 143 299       0      30  66     136    1    \n",
       "11 140 351       0      27  68     120    0    \n",
       "12 144 282       0      32  64     124    1    \n",
       "13 141 279       0      23  63     128    1    \n",
       "14 110 281       0      36  61      99    1    \n",
       "15 114 273       0      30  63     154    0    "
      ]
     },
     "metadata": {},
     "output_type": "display_data"
    },
    {
     "data": {
      "text/html": [
       "<table>\n",
       "<thead><tr><th></th><th scope=col>bwt</th><th scope=col>gestation</th><th scope=col>parity</th><th scope=col>age</th><th scope=col>height</th><th scope=col>weight</th><th scope=col>smoke</th></tr></thead>\n",
       "<tbody>\n",
       "\t<tr><th scope=row>1222</th><td>114</td><td>290</td><td>1  </td><td>21 </td><td>65 </td><td>120</td><td>1  </td></tr>\n",
       "\t<tr><th scope=row>1223</th><td>124</td><td>288</td><td>1  </td><td>21 </td><td>64 </td><td>116</td><td>1  </td></tr>\n",
       "\t<tr><th scope=row>1224</th><td>115</td><td>262</td><td>1  </td><td>23 </td><td>64 </td><td>136</td><td>1  </td></tr>\n",
       "\t<tr><th scope=row>1225</th><td>143</td><td>281</td><td>0  </td><td>28 </td><td>65 </td><td>135</td><td>1  </td></tr>\n",
       "\t<tr><th scope=row>1226</th><td>113</td><td>287</td><td>1  </td><td>29 </td><td>70 </td><td>145</td><td>1  </td></tr>\n",
       "\t<tr><th scope=row>1227</th><td>109</td><td>244</td><td>1  </td><td>21 </td><td>63 </td><td>102</td><td>1  </td></tr>\n",
       "\t<tr><th scope=row>1228</th><td>103</td><td>278</td><td>0  </td><td>30 </td><td>60 </td><td> 87</td><td>1  </td></tr>\n",
       "\t<tr><th scope=row>1229</th><td>118</td><td>276</td><td>0  </td><td>34 </td><td>64 </td><td>116</td><td>0  </td></tr>\n",
       "\t<tr><th scope=row>1230</th><td>127</td><td>290</td><td>0  </td><td>27 </td><td>65 </td><td>121</td><td>0  </td></tr>\n",
       "\t<tr><th scope=row>1231</th><td>132</td><td>270</td><td>0  </td><td>27 </td><td>65 </td><td>126</td><td>0  </td></tr>\n",
       "\t<tr><th scope=row>1232</th><td>113</td><td>275</td><td>1  </td><td>27 </td><td>60 </td><td>100</td><td>0  </td></tr>\n",
       "\t<tr><th scope=row>1233</th><td>128</td><td>265</td><td>0  </td><td>24 </td><td>67 </td><td>120</td><td>0  </td></tr>\n",
       "\t<tr><th scope=row>1234</th><td>130</td><td>291</td><td>0  </td><td>30 </td><td>65 </td><td>150</td><td>1  </td></tr>\n",
       "\t<tr><th scope=row>1235</th><td>125</td><td>281</td><td>1  </td><td>21 </td><td>65 </td><td>110</td><td>0  </td></tr>\n",
       "\t<tr><th scope=row>1236</th><td>117</td><td>297</td><td>0  </td><td>38 </td><td>65 </td><td>129</td><td>0  </td></tr>\n",
       "</tbody>\n",
       "</table>\n"
      ],
      "text/latex": [
       "\\begin{tabular}{r|lllllll}\n",
       "  & bwt & gestation & parity & age & height & weight & smoke\\\\\n",
       "\\hline\n",
       "\t1222 & 114 & 290 & 1   & 21  & 65  & 120 & 1  \\\\\n",
       "\t1223 & 124 & 288 & 1   & 21  & 64  & 116 & 1  \\\\\n",
       "\t1224 & 115 & 262 & 1   & 23  & 64  & 136 & 1  \\\\\n",
       "\t1225 & 143 & 281 & 0   & 28  & 65  & 135 & 1  \\\\\n",
       "\t1226 & 113 & 287 & 1   & 29  & 70  & 145 & 1  \\\\\n",
       "\t1227 & 109 & 244 & 1   & 21  & 63  & 102 & 1  \\\\\n",
       "\t1228 & 103 & 278 & 0   & 30  & 60  &  87 & 1  \\\\\n",
       "\t1229 & 118 & 276 & 0   & 34  & 64  & 116 & 0  \\\\\n",
       "\t1230 & 127 & 290 & 0   & 27  & 65  & 121 & 0  \\\\\n",
       "\t1231 & 132 & 270 & 0   & 27  & 65  & 126 & 0  \\\\\n",
       "\t1232 & 113 & 275 & 1   & 27  & 60  & 100 & 0  \\\\\n",
       "\t1233 & 128 & 265 & 0   & 24  & 67  & 120 & 0  \\\\\n",
       "\t1234 & 130 & 291 & 0   & 30  & 65  & 150 & 1  \\\\\n",
       "\t1235 & 125 & 281 & 1   & 21  & 65  & 110 & 0  \\\\\n",
       "\t1236 & 117 & 297 & 0   & 38  & 65  & 129 & 0  \\\\\n",
       "\\end{tabular}\n"
      ],
      "text/markdown": [
       "\n",
       "| <!--/--> | bwt | gestation | parity | age | height | weight | smoke | \n",
       "|---|---|---|---|---|---|---|---|---|---|---|---|---|---|---|\n",
       "| 1222 | 114 | 290 | 1   | 21  | 65  | 120 | 1   | \n",
       "| 1223 | 124 | 288 | 1   | 21  | 64  | 116 | 1   | \n",
       "| 1224 | 115 | 262 | 1   | 23  | 64  | 136 | 1   | \n",
       "| 1225 | 143 | 281 | 0   | 28  | 65  | 135 | 1   | \n",
       "| 1226 | 113 | 287 | 1   | 29  | 70  | 145 | 1   | \n",
       "| 1227 | 109 | 244 | 1   | 21  | 63  | 102 | 1   | \n",
       "| 1228 | 103 | 278 | 0   | 30  | 60  |  87 | 1   | \n",
       "| 1229 | 118 | 276 | 0   | 34  | 64  | 116 | 0   | \n",
       "| 1230 | 127 | 290 | 0   | 27  | 65  | 121 | 0   | \n",
       "| 1231 | 132 | 270 | 0   | 27  | 65  | 126 | 0   | \n",
       "| 1232 | 113 | 275 | 1   | 27  | 60  | 100 | 0   | \n",
       "| 1233 | 128 | 265 | 0   | 24  | 67  | 120 | 0   | \n",
       "| 1234 | 130 | 291 | 0   | 30  | 65  | 150 | 1   | \n",
       "| 1235 | 125 | 281 | 1   | 21  | 65  | 110 | 0   | \n",
       "| 1236 | 117 | 297 | 0   | 38  | 65  | 129 | 0   | \n",
       "\n",
       "\n"
      ],
      "text/plain": [
       "     bwt gestation parity age height weight smoke\n",
       "1222 114 290       1      21  65     120    1    \n",
       "1223 124 288       1      21  64     116    1    \n",
       "1224 115 262       1      23  64     136    1    \n",
       "1225 143 281       0      28  65     135    1    \n",
       "1226 113 287       1      29  70     145    1    \n",
       "1227 109 244       1      21  63     102    1    \n",
       "1228 103 278       0      30  60      87    1    \n",
       "1229 118 276       0      34  64     116    0    \n",
       "1230 127 290       0      27  65     121    0    \n",
       "1231 132 270       0      27  65     126    0    \n",
       "1232 113 275       1      27  60     100    0    \n",
       "1233 128 265       0      24  67     120    0    \n",
       "1234 130 291       0      30  65     150    1    \n",
       "1235 125 281       1      21  65     110    0    \n",
       "1236 117 297       0      38  65     129    0    "
      ]
     },
     "metadata": {},
     "output_type": "display_data"
    }
   ],
   "source": [
    "head(babies , 15)               # 只看前15筆資料\n",
    "tail(babies , 15) # 只看尾巴15筆資料"
   ]
  },
  {
   "cell_type": "markdown",
   "metadata": {},
   "source": [
    "### 1-2.如果我的檔案是.txt檔"
   ]
  },
  {
   "cell_type": "code",
   "execution_count": 5,
   "metadata": {},
   "outputs": [
    {
     "data": {
      "text/html": [
       "<table>\n",
       "<thead><tr><th scope=col>bwt</th><th scope=col>gestation</th><th scope=col>parity</th><th scope=col>age</th><th scope=col>height</th><th scope=col>weight</th><th scope=col>smoke</th></tr></thead>\n",
       "<tbody>\n",
       "\t<tr><td>120</td><td>284</td><td>0  </td><td>27 </td><td>62 </td><td>100</td><td>0  </td></tr>\n",
       "\t<tr><td>113</td><td>282</td><td>0  </td><td>33 </td><td>64 </td><td>135</td><td>0  </td></tr>\n",
       "\t<tr><td>128</td><td>279</td><td>0  </td><td>28 </td><td>64 </td><td>115</td><td>1  </td></tr>\n",
       "\t<tr><td>123</td><td> NA</td><td>0  </td><td>36 </td><td>69 </td><td>190</td><td>0  </td></tr>\n",
       "\t<tr><td>108</td><td>282</td><td>0  </td><td>23 </td><td>67 </td><td>125</td><td>1  </td></tr>\n",
       "\t<tr><td>136</td><td>286</td><td>0  </td><td>25 </td><td>62 </td><td> 93</td><td>0  </td></tr>\n",
       "</tbody>\n",
       "</table>\n"
      ],
      "text/latex": [
       "\\begin{tabular}{r|lllllll}\n",
       " bwt & gestation & parity & age & height & weight & smoke\\\\\n",
       "\\hline\n",
       "\t 120 & 284 & 0   & 27  & 62  & 100 & 0  \\\\\n",
       "\t 113 & 282 & 0   & 33  & 64  & 135 & 0  \\\\\n",
       "\t 128 & 279 & 0   & 28  & 64  & 115 & 1  \\\\\n",
       "\t 123 &  NA & 0   & 36  & 69  & 190 & 0  \\\\\n",
       "\t 108 & 282 & 0   & 23  & 67  & 125 & 1  \\\\\n",
       "\t 136 & 286 & 0   & 25  & 62  &  93 & 0  \\\\\n",
       "\\end{tabular}\n"
      ],
      "text/markdown": [
       "\n",
       "bwt | gestation | parity | age | height | weight | smoke | \n",
       "|---|---|---|---|---|---|\n",
       "| 120 | 284 | 0   | 27  | 62  | 100 | 0   | \n",
       "| 113 | 282 | 0   | 33  | 64  | 135 | 0   | \n",
       "| 128 | 279 | 0   | 28  | 64  | 115 | 1   | \n",
       "| 123 |  NA | 0   | 36  | 69  | 190 | 0   | \n",
       "| 108 | 282 | 0   | 23  | 67  | 125 | 1   | \n",
       "| 136 | 286 | 0   | 25  | 62  |  93 | 0   | \n",
       "\n",
       "\n"
      ],
      "text/plain": [
       "  bwt gestation parity age height weight smoke\n",
       "1 120 284       0      27  62     100    0    \n",
       "2 113 282       0      33  64     135    0    \n",
       "3 128 279       0      28  64     115    1    \n",
       "4 123  NA       0      36  69     190    0    \n",
       "5 108 282       0      23  67     125    1    \n",
       "6 136 286       0      25  62      93    0    "
      ]
     },
     "metadata": {},
     "output_type": "display_data"
    }
   ],
   "source": [
    "xdata = read.table(\"babies.txt\",header=TRUE)   # header: 表頭\n",
    "head(xdata)             # 只看前6筆資料"
   ]
  },
  {
   "cell_type": "markdown",
   "metadata": {},
   "source": [
    "### 1-3.另存新檔(輸出資料)"
   ]
  },
  {
   "cell_type": "code",
   "execution_count": 6,
   "metadata": {},
   "outputs": [],
   "source": [
    "data <- iris # iris 是 R 內建的資料。\n",
    "write.table(data, file = \"test.CSV\", sep = \",\") #請特別注意路徑"
   ]
  },
  {
   "cell_type": "markdown",
   "metadata": {},
   "source": [
    "## [PART 2].Descriptive Statistics.\n",
    "\n",
    "### [基本資料說明]\n",
    "\n",
    "我們採用內建的iris資料\n",
    "\n",
    "- 花萼長度(Sepal Length)\n",
    "- 花萼寬度(Sepal Width)\n",
    "- 花瓣長度(Petal Length)\n",
    "- 花瓣寬度(Petal Width)\n",
    "- 類別(Species)：可分為Setosa，Versicolor和Virginica三個品種。"
   ]
  },
  {
   "cell_type": "code",
   "execution_count": 7,
   "metadata": {},
   "outputs": [
    {
     "data": {
      "text/html": [
       "<ol class=list-inline>\n",
       "\t<li>150</li>\n",
       "\t<li>5</li>\n",
       "</ol>\n"
      ],
      "text/latex": [
       "\\begin{enumerate*}\n",
       "\\item 150\n",
       "\\item 5\n",
       "\\end{enumerate*}\n"
      ],
      "text/markdown": [
       "1. 150\n",
       "2. 5\n",
       "\n",
       "\n"
      ],
      "text/plain": [
       "[1] 150   5"
      ]
     },
     "metadata": {},
     "output_type": "display_data"
    }
   ],
   "source": [
    "data(iris)\n",
    "dim(iris) # 查看列數與欄數"
   ]
  },
  {
   "cell_type": "markdown",
   "metadata": {},
   "source": [
    "### 2-1. 資料概述\n",
    "\n",
    "- 在收到一筆資料時, 我們常常先不去碰所謂的\"統計學\"\n",
    "- 而是先摸摸看資料, 看看它長的怎樣？是圓的還是方的？資料屬性是什麼？\n",
    "- 這樣做的目的, 是預先可以想像一下, 後續可能可以做些什麼？該用哪些統計方法來看資料？"
   ]
  },
  {
   "cell_type": "code",
   "execution_count": 8,
   "metadata": {},
   "outputs": [
    {
     "data": {
      "text/html": [
       "<table>\n",
       "<thead><tr><th scope=col>Sepal.Length</th><th scope=col>Sepal.Width</th><th scope=col>Petal.Length</th><th scope=col>Petal.Width</th><th scope=col>Species</th></tr></thead>\n",
       "<tbody>\n",
       "\t<tr><td>5.1   </td><td>3.5   </td><td>1.4   </td><td>0.2   </td><td>setosa</td></tr>\n",
       "\t<tr><td>4.9   </td><td>3.0   </td><td>1.4   </td><td>0.2   </td><td>setosa</td></tr>\n",
       "\t<tr><td>4.7   </td><td>3.2   </td><td>1.3   </td><td>0.2   </td><td>setosa</td></tr>\n",
       "\t<tr><td>4.6   </td><td>3.1   </td><td>1.5   </td><td>0.2   </td><td>setosa</td></tr>\n",
       "\t<tr><td>5.0   </td><td>3.6   </td><td>1.4   </td><td>0.2   </td><td>setosa</td></tr>\n",
       "\t<tr><td>5.4   </td><td>3.9   </td><td>1.7   </td><td>0.4   </td><td>setosa</td></tr>\n",
       "\t<tr><td>4.6   </td><td>3.4   </td><td>1.4   </td><td>0.3   </td><td>setosa</td></tr>\n",
       "\t<tr><td>5.0   </td><td>3.4   </td><td>1.5   </td><td>0.2   </td><td>setosa</td></tr>\n",
       "\t<tr><td>4.4   </td><td>2.9   </td><td>1.4   </td><td>0.2   </td><td>setosa</td></tr>\n",
       "\t<tr><td>4.9   </td><td>3.1   </td><td>1.5   </td><td>0.1   </td><td>setosa</td></tr>\n",
       "</tbody>\n",
       "</table>\n"
      ],
      "text/latex": [
       "\\begin{tabular}{r|lllll}\n",
       " Sepal.Length & Sepal.Width & Petal.Length & Petal.Width & Species\\\\\n",
       "\\hline\n",
       "\t 5.1    & 3.5    & 1.4    & 0.2    & setosa\\\\\n",
       "\t 4.9    & 3.0    & 1.4    & 0.2    & setosa\\\\\n",
       "\t 4.7    & 3.2    & 1.3    & 0.2    & setosa\\\\\n",
       "\t 4.6    & 3.1    & 1.5    & 0.2    & setosa\\\\\n",
       "\t 5.0    & 3.6    & 1.4    & 0.2    & setosa\\\\\n",
       "\t 5.4    & 3.9    & 1.7    & 0.4    & setosa\\\\\n",
       "\t 4.6    & 3.4    & 1.4    & 0.3    & setosa\\\\\n",
       "\t 5.0    & 3.4    & 1.5    & 0.2    & setosa\\\\\n",
       "\t 4.4    & 2.9    & 1.4    & 0.2    & setosa\\\\\n",
       "\t 4.9    & 3.1    & 1.5    & 0.1    & setosa\\\\\n",
       "\\end{tabular}\n"
      ],
      "text/markdown": [
       "\n",
       "Sepal.Length | Sepal.Width | Petal.Length | Petal.Width | Species | \n",
       "|---|---|---|---|---|---|---|---|---|---|\n",
       "| 5.1    | 3.5    | 1.4    | 0.2    | setosa | \n",
       "| 4.9    | 3.0    | 1.4    | 0.2    | setosa | \n",
       "| 4.7    | 3.2    | 1.3    | 0.2    | setosa | \n",
       "| 4.6    | 3.1    | 1.5    | 0.2    | setosa | \n",
       "| 5.0    | 3.6    | 1.4    | 0.2    | setosa | \n",
       "| 5.4    | 3.9    | 1.7    | 0.4    | setosa | \n",
       "| 4.6    | 3.4    | 1.4    | 0.3    | setosa | \n",
       "| 5.0    | 3.4    | 1.5    | 0.2    | setosa | \n",
       "| 4.4    | 2.9    | 1.4    | 0.2    | setosa | \n",
       "| 4.9    | 3.1    | 1.5    | 0.1    | setosa | \n",
       "\n",
       "\n"
      ],
      "text/plain": [
       "   Sepal.Length Sepal.Width Petal.Length Petal.Width Species\n",
       "1  5.1          3.5         1.4          0.2         setosa \n",
       "2  4.9          3.0         1.4          0.2         setosa \n",
       "3  4.7          3.2         1.3          0.2         setosa \n",
       "4  4.6          3.1         1.5          0.2         setosa \n",
       "5  5.0          3.6         1.4          0.2         setosa \n",
       "6  5.4          3.9         1.7          0.4         setosa \n",
       "7  4.6          3.4         1.4          0.3         setosa \n",
       "8  5.0          3.4         1.5          0.2         setosa \n",
       "9  4.4          2.9         1.4          0.2         setosa \n",
       "10 4.9          3.1         1.5          0.1         setosa "
      ]
     },
     "metadata": {},
     "output_type": "display_data"
    },
    {
     "data": {
      "text/html": [
       "<table>\n",
       "<thead><tr><th></th><th scope=col>Sepal.Length</th><th scope=col>Sepal.Width</th><th scope=col>Petal.Length</th><th scope=col>Petal.Width</th><th scope=col>Species</th></tr></thead>\n",
       "<tbody>\n",
       "\t<tr><th scope=row>141</th><td>6.7      </td><td>3.1      </td><td>5.6      </td><td>2.4      </td><td>virginica</td></tr>\n",
       "\t<tr><th scope=row>142</th><td>6.9      </td><td>3.1      </td><td>5.1      </td><td>2.3      </td><td>virginica</td></tr>\n",
       "\t<tr><th scope=row>143</th><td>5.8      </td><td>2.7      </td><td>5.1      </td><td>1.9      </td><td>virginica</td></tr>\n",
       "\t<tr><th scope=row>144</th><td>6.8      </td><td>3.2      </td><td>5.9      </td><td>2.3      </td><td>virginica</td></tr>\n",
       "\t<tr><th scope=row>145</th><td>6.7      </td><td>3.3      </td><td>5.7      </td><td>2.5      </td><td>virginica</td></tr>\n",
       "\t<tr><th scope=row>146</th><td>6.7      </td><td>3.0      </td><td>5.2      </td><td>2.3      </td><td>virginica</td></tr>\n",
       "\t<tr><th scope=row>147</th><td>6.3      </td><td>2.5      </td><td>5.0      </td><td>1.9      </td><td>virginica</td></tr>\n",
       "\t<tr><th scope=row>148</th><td>6.5      </td><td>3.0      </td><td>5.2      </td><td>2.0      </td><td>virginica</td></tr>\n",
       "\t<tr><th scope=row>149</th><td>6.2      </td><td>3.4      </td><td>5.4      </td><td>2.3      </td><td>virginica</td></tr>\n",
       "\t<tr><th scope=row>150</th><td>5.9      </td><td>3.0      </td><td>5.1      </td><td>1.8      </td><td>virginica</td></tr>\n",
       "</tbody>\n",
       "</table>\n"
      ],
      "text/latex": [
       "\\begin{tabular}{r|lllll}\n",
       "  & Sepal.Length & Sepal.Width & Petal.Length & Petal.Width & Species\\\\\n",
       "\\hline\n",
       "\t141 & 6.7       & 3.1       & 5.6       & 2.4       & virginica\\\\\n",
       "\t142 & 6.9       & 3.1       & 5.1       & 2.3       & virginica\\\\\n",
       "\t143 & 5.8       & 2.7       & 5.1       & 1.9       & virginica\\\\\n",
       "\t144 & 6.8       & 3.2       & 5.9       & 2.3       & virginica\\\\\n",
       "\t145 & 6.7       & 3.3       & 5.7       & 2.5       & virginica\\\\\n",
       "\t146 & 6.7       & 3.0       & 5.2       & 2.3       & virginica\\\\\n",
       "\t147 & 6.3       & 2.5       & 5.0       & 1.9       & virginica\\\\\n",
       "\t148 & 6.5       & 3.0       & 5.2       & 2.0       & virginica\\\\\n",
       "\t149 & 6.2       & 3.4       & 5.4       & 2.3       & virginica\\\\\n",
       "\t150 & 5.9       & 3.0       & 5.1       & 1.8       & virginica\\\\\n",
       "\\end{tabular}\n"
      ],
      "text/markdown": [
       "\n",
       "| <!--/--> | Sepal.Length | Sepal.Width | Petal.Length | Petal.Width | Species | \n",
       "|---|---|---|---|---|---|---|---|---|---|\n",
       "| 141 | 6.7       | 3.1       | 5.6       | 2.4       | virginica | \n",
       "| 142 | 6.9       | 3.1       | 5.1       | 2.3       | virginica | \n",
       "| 143 | 5.8       | 2.7       | 5.1       | 1.9       | virginica | \n",
       "| 144 | 6.8       | 3.2       | 5.9       | 2.3       | virginica | \n",
       "| 145 | 6.7       | 3.3       | 5.7       | 2.5       | virginica | \n",
       "| 146 | 6.7       | 3.0       | 5.2       | 2.3       | virginica | \n",
       "| 147 | 6.3       | 2.5       | 5.0       | 1.9       | virginica | \n",
       "| 148 | 6.5       | 3.0       | 5.2       | 2.0       | virginica | \n",
       "| 149 | 6.2       | 3.4       | 5.4       | 2.3       | virginica | \n",
       "| 150 | 5.9       | 3.0       | 5.1       | 1.8       | virginica | \n",
       "\n",
       "\n"
      ],
      "text/plain": [
       "    Sepal.Length Sepal.Width Petal.Length Petal.Width Species  \n",
       "141 6.7          3.1         5.6          2.4         virginica\n",
       "142 6.9          3.1         5.1          2.3         virginica\n",
       "143 5.8          2.7         5.1          1.9         virginica\n",
       "144 6.8          3.2         5.9          2.3         virginica\n",
       "145 6.7          3.3         5.7          2.5         virginica\n",
       "146 6.7          3.0         5.2          2.3         virginica\n",
       "147 6.3          2.5         5.0          1.9         virginica\n",
       "148 6.5          3.0         5.2          2.0         virginica\n",
       "149 6.2          3.4         5.4          2.3         virginica\n",
       "150 5.9          3.0         5.1          1.8         virginica"
      ]
     },
     "metadata": {},
     "output_type": "display_data"
    }
   ],
   "source": [
    "#看看IRIS資料集的頭尾\n",
    "head(iris, 10) #取前10筆資料\n",
    "tail(iris,10) #取後10筆資料"
   ]
  },
  {
   "cell_type": "code",
   "execution_count": 9,
   "metadata": {},
   "outputs": [
    {
     "data": {
      "text/html": [
       "<ol class=list-inline>\n",
       "\t<li>150</li>\n",
       "\t<li>5</li>\n",
       "</ol>\n"
      ],
      "text/latex": [
       "\\begin{enumerate*}\n",
       "\\item 150\n",
       "\\item 5\n",
       "\\end{enumerate*}\n"
      ],
      "text/markdown": [
       "1. 150\n",
       "2. 5\n",
       "\n",
       "\n"
      ],
      "text/plain": [
       "[1] 150   5"
      ]
     },
     "metadata": {},
     "output_type": "display_data"
    },
    {
     "data": {
      "text/plain": [
       "  Sepal.Length    Sepal.Width     Petal.Length    Petal.Width   \n",
       " Min.   :4.300   Min.   :2.000   Min.   :1.000   Min.   :0.100  \n",
       " 1st Qu.:5.100   1st Qu.:2.800   1st Qu.:1.600   1st Qu.:0.300  \n",
       " Median :5.800   Median :3.000   Median :4.350   Median :1.300  \n",
       " Mean   :5.843   Mean   :3.057   Mean   :3.758   Mean   :1.199  \n",
       " 3rd Qu.:6.400   3rd Qu.:3.300   3rd Qu.:5.100   3rd Qu.:1.800  \n",
       " Max.   :7.900   Max.   :4.400   Max.   :6.900   Max.   :2.500  \n",
       "       Species  \n",
       " setosa    :50  \n",
       " versicolor:50  \n",
       " virginica :50  \n",
       "                \n",
       "                \n",
       "                "
      ]
     },
     "metadata": {},
     "output_type": "display_data"
    }
   ],
   "source": [
    "dim(iris) # 查看列數與欄數\n",
    "summary(iris)#基本敘述性統計量"
   ]
  },
  {
   "cell_type": "code",
   "execution_count": 10,
   "metadata": {},
   "outputs": [
    {
     "data": {
      "text/html": [
       "<table>\n",
       "<thead><tr><th></th><th scope=col>Sepal.Length</th><th scope=col>Sepal.Width</th><th scope=col>Petal.Length</th><th scope=col>Petal.Width</th><th scope=col>Species</th></tr></thead>\n",
       "<tbody>\n",
       "\t<tr><th scope=row>6</th><td>5.4   </td><td>3.9   </td><td>1.7   </td><td>0.4   </td><td>setosa</td></tr>\n",
       "</tbody>\n",
       "</table>\n"
      ],
      "text/latex": [
       "\\begin{tabular}{r|lllll}\n",
       "  & Sepal.Length & Sepal.Width & Petal.Length & Petal.Width & Species\\\\\n",
       "\\hline\n",
       "\t6 & 5.4    & 3.9    & 1.7    & 0.4    & setosa\\\\\n",
       "\\end{tabular}\n"
      ],
      "text/markdown": [
       "\n",
       "| <!--/--> | Sepal.Length | Sepal.Width | Petal.Length | Petal.Width | Species | \n",
       "|---|\n",
       "| 6 | 5.4    | 3.9    | 1.7    | 0.4    | setosa | \n",
       "\n",
       "\n"
      ],
      "text/plain": [
       "  Sepal.Length Sepal.Width Petal.Length Petal.Width Species\n",
       "6 5.4          3.9         1.7          0.4         setosa "
      ]
     },
     "metadata": {},
     "output_type": "display_data"
    },
    {
     "data": {
      "text/html": [
       "<table>\n",
       "<thead><tr><th></th><th scope=col>Sepal.Length</th><th scope=col>Sepal.Width</th><th scope=col>Petal.Length</th><th scope=col>Petal.Width</th><th scope=col>Species</th></tr></thead>\n",
       "<tbody>\n",
       "\t<tr><th scope=row>4</th><td>4.6   </td><td>3.1   </td><td>1.5   </td><td>0.2   </td><td>setosa</td></tr>\n",
       "\t<tr><th scope=row>10</th><td>4.9   </td><td>3.1   </td><td>1.5   </td><td>0.1   </td><td>setosa</td></tr>\n",
       "</tbody>\n",
       "</table>\n"
      ],
      "text/latex": [
       "\\begin{tabular}{r|lllll}\n",
       "  & Sepal.Length & Sepal.Width & Petal.Length & Petal.Width & Species\\\\\n",
       "\\hline\n",
       "\t4 & 4.6    & 3.1    & 1.5    & 0.2    & setosa\\\\\n",
       "\t10 & 4.9    & 3.1    & 1.5    & 0.1    & setosa\\\\\n",
       "\\end{tabular}\n"
      ],
      "text/markdown": [
       "\n",
       "| <!--/--> | Sepal.Length | Sepal.Width | Petal.Length | Petal.Width | Species | \n",
       "|---|---|\n",
       "| 4 | 4.6    | 3.1    | 1.5    | 0.2    | setosa | \n",
       "| 10 | 4.9    | 3.1    | 1.5    | 0.1    | setosa | \n",
       "\n",
       "\n"
      ],
      "text/plain": [
       "   Sepal.Length Sepal.Width Petal.Length Petal.Width Species\n",
       "4  4.6          3.1         1.5          0.2         setosa \n",
       "10 4.9          3.1         1.5          0.1         setosa "
      ]
     },
     "metadata": {},
     "output_type": "display_data"
    }
   ],
   "source": [
    "iris1 <- iris[1:12, ]   # 把iris前12筆資料存成iris1\n",
    "\n",
    "iris1[6, ]      # iris1第6筆是多少(row)\n",
    "iris1[c(4, 10) , ] #取得第4 及第10 列資料"
   ]
  },
  {
   "cell_type": "markdown",
   "metadata": {},
   "source": [
    "### 以下三種寫法都代表同一件事(Column)"
   ]
  },
  {
   "cell_type": "code",
   "execution_count": 11,
   "metadata": {},
   "outputs": [
    {
     "data": {
      "text/html": [
       "<ol class=list-inline>\n",
       "\t<li>3.5</li>\n",
       "\t<li>3</li>\n",
       "\t<li>3.2</li>\n",
       "\t<li>3.1</li>\n",
       "\t<li>3.6</li>\n",
       "\t<li>3.9</li>\n",
       "\t<li>3.4</li>\n",
       "\t<li>3.4</li>\n",
       "\t<li>2.9</li>\n",
       "\t<li>3.1</li>\n",
       "\t<li>3.7</li>\n",
       "\t<li>3.4</li>\n",
       "</ol>\n"
      ],
      "text/latex": [
       "\\begin{enumerate*}\n",
       "\\item 3.5\n",
       "\\item 3\n",
       "\\item 3.2\n",
       "\\item 3.1\n",
       "\\item 3.6\n",
       "\\item 3.9\n",
       "\\item 3.4\n",
       "\\item 3.4\n",
       "\\item 2.9\n",
       "\\item 3.1\n",
       "\\item 3.7\n",
       "\\item 3.4\n",
       "\\end{enumerate*}\n"
      ],
      "text/markdown": [
       "1. 3.5\n",
       "2. 3\n",
       "3. 3.2\n",
       "4. 3.1\n",
       "5. 3.6\n",
       "6. 3.9\n",
       "7. 3.4\n",
       "8. 3.4\n",
       "9. 2.9\n",
       "10. 3.1\n",
       "11. 3.7\n",
       "12. 3.4\n",
       "\n",
       "\n"
      ],
      "text/plain": [
       " [1] 3.5 3.0 3.2 3.1 3.6 3.9 3.4 3.4 2.9 3.1 3.7 3.4"
      ]
     },
     "metadata": {},
     "output_type": "display_data"
    },
    {
     "data": {
      "text/html": [
       "<ol class=list-inline>\n",
       "\t<li>3.5</li>\n",
       "\t<li>3</li>\n",
       "\t<li>3.2</li>\n",
       "\t<li>3.1</li>\n",
       "\t<li>3.6</li>\n",
       "\t<li>3.9</li>\n",
       "\t<li>3.4</li>\n",
       "\t<li>3.4</li>\n",
       "\t<li>2.9</li>\n",
       "\t<li>3.1</li>\n",
       "\t<li>3.7</li>\n",
       "\t<li>3.4</li>\n",
       "</ol>\n"
      ],
      "text/latex": [
       "\\begin{enumerate*}\n",
       "\\item 3.5\n",
       "\\item 3\n",
       "\\item 3.2\n",
       "\\item 3.1\n",
       "\\item 3.6\n",
       "\\item 3.9\n",
       "\\item 3.4\n",
       "\\item 3.4\n",
       "\\item 2.9\n",
       "\\item 3.1\n",
       "\\item 3.7\n",
       "\\item 3.4\n",
       "\\end{enumerate*}\n"
      ],
      "text/markdown": [
       "1. 3.5\n",
       "2. 3\n",
       "3. 3.2\n",
       "4. 3.1\n",
       "5. 3.6\n",
       "6. 3.9\n",
       "7. 3.4\n",
       "8. 3.4\n",
       "9. 2.9\n",
       "10. 3.1\n",
       "11. 3.7\n",
       "12. 3.4\n",
       "\n",
       "\n"
      ],
      "text/plain": [
       " [1] 3.5 3.0 3.2 3.1 3.6 3.9 3.4 3.4 2.9 3.1 3.7 3.4"
      ]
     },
     "metadata": {},
     "output_type": "display_data"
    },
    {
     "data": {
      "text/html": [
       "<ol class=list-inline>\n",
       "\t<li>3.5</li>\n",
       "\t<li>3</li>\n",
       "\t<li>3.2</li>\n",
       "\t<li>3.1</li>\n",
       "\t<li>3.6</li>\n",
       "\t<li>3.9</li>\n",
       "\t<li>3.4</li>\n",
       "\t<li>3.4</li>\n",
       "\t<li>2.9</li>\n",
       "\t<li>3.1</li>\n",
       "\t<li>3.7</li>\n",
       "\t<li>3.4</li>\n",
       "</ol>\n"
      ],
      "text/latex": [
       "\\begin{enumerate*}\n",
       "\\item 3.5\n",
       "\\item 3\n",
       "\\item 3.2\n",
       "\\item 3.1\n",
       "\\item 3.6\n",
       "\\item 3.9\n",
       "\\item 3.4\n",
       "\\item 3.4\n",
       "\\item 2.9\n",
       "\\item 3.1\n",
       "\\item 3.7\n",
       "\\item 3.4\n",
       "\\end{enumerate*}\n"
      ],
      "text/markdown": [
       "1. 3.5\n",
       "2. 3\n",
       "3. 3.2\n",
       "4. 3.1\n",
       "5. 3.6\n",
       "6. 3.9\n",
       "7. 3.4\n",
       "8. 3.4\n",
       "9. 2.9\n",
       "10. 3.1\n",
       "11. 3.7\n",
       "12. 3.4\n",
       "\n",
       "\n"
      ],
      "text/plain": [
       " [1] 3.5 3.0 3.2 3.1 3.6 3.9 3.4 3.4 2.9 3.1 3.7 3.4"
      ]
     },
     "metadata": {},
     "output_type": "display_data"
    }
   ],
   "source": [
    "iris1[, 2]    # iris1第2筆是多少(Column)\n",
    "iris1[, \"Sepal.Width\"] #和 iris1[, 2] 相同\n",
    "iris1$Sepal.Width"
   ]
  },
  {
   "cell_type": "markdown",
   "metadata": {},
   "source": [
    "### 2-2.集中趨勢量數\n"
   ]
  },
  {
   "cell_type": "code",
   "execution_count": 12,
   "metadata": {},
   "outputs": [
    {
     "data": {
      "text/html": [
       "5.84333333333333"
      ],
      "text/latex": [
       "5.84333333333333"
      ],
      "text/markdown": [
       "5.84333333333333"
      ],
      "text/plain": [
       "[1] 5.843333"
      ]
     },
     "metadata": {},
     "output_type": "display_data"
    },
    {
     "data": {
      "text/html": [
       "5.8"
      ],
      "text/latex": [
       "5.8"
      ],
      "text/markdown": [
       "5.8"
      ],
      "text/plain": [
       "[1] 5.8"
      ]
     },
     "metadata": {},
     "output_type": "display_data"
    },
    {
     "data": {
      "text/html": [
       "7.9"
      ],
      "text/latex": [
       "7.9"
      ],
      "text/markdown": [
       "7.9"
      ],
      "text/plain": [
       "[1] 7.9"
      ]
     },
     "metadata": {},
     "output_type": "display_data"
    },
    {
     "data": {
      "text/html": [
       "4.3"
      ],
      "text/latex": [
       "4.3"
      ],
      "text/markdown": [
       "4.3"
      ],
      "text/plain": [
       "[1] 4.3"
      ]
     },
     "metadata": {},
     "output_type": "display_data"
    },
    {
     "data": {
      "text/html": [
       "876.5"
      ],
      "text/latex": [
       "876.5"
      ],
      "text/markdown": [
       "876.5"
      ],
      "text/plain": [
       "[1] 876.5"
      ]
     },
     "metadata": {},
     "output_type": "display_data"
    }
   ],
   "source": [
    "mean(iris$Sepal.Length)     #「花萼長度」的平均值\n",
    "median(iris$Sepal.Length)   #「花萼長度」的中位數\n",
    "max(iris$Sepal.Length)      #「花萼長度」中的最大值\n",
    "min(iris$Sepal.Length)      #「花萼長度」中的最小值\n",
    "sum(iris$Sepal.Length)      #「花萼長度」加總"
   ]
  },
  {
   "cell_type": "markdown",
   "metadata": {},
   "source": [
    "### 2-3. 分散趨勢量數"
   ]
  },
  {
   "cell_type": "code",
   "execution_count": 13,
   "metadata": {},
   "outputs": [
    {
     "data": {
      "text/html": [
       "0.685693512304251"
      ],
      "text/latex": [
       "0.685693512304251"
      ],
      "text/markdown": [
       "0.685693512304251"
      ],
      "text/plain": [
       "[1] 0.6856935"
      ]
     },
     "metadata": {},
     "output_type": "display_data"
    },
    {
     "data": {
      "text/html": [
       "0.828066127977863"
      ],
      "text/latex": [
       "0.828066127977863"
      ],
      "text/markdown": [
       "0.828066127977863"
      ],
      "text/plain": [
       "[1] 0.8280661"
      ]
     },
     "metadata": {},
     "output_type": "display_data"
    },
    {
     "data": {
      "text/html": [
       "<ol class=list-inline>\n",
       "\t<li>4.3</li>\n",
       "\t<li>7.9</li>\n",
       "</ol>\n"
      ],
      "text/latex": [
       "\\begin{enumerate*}\n",
       "\\item 4.3\n",
       "\\item 7.9\n",
       "\\end{enumerate*}\n"
      ],
      "text/markdown": [
       "1. 4.3\n",
       "2. 7.9\n",
       "\n",
       "\n"
      ],
      "text/plain": [
       "[1] 4.3 7.9"
      ]
     },
     "metadata": {},
     "output_type": "display_data"
    },
    {
     "data": {
      "text/html": [
       "0.828066127977863"
      ],
      "text/latex": [
       "0.828066127977863"
      ],
      "text/markdown": [
       "0.828066127977863"
      ],
      "text/plain": [
       "[1] 0.8280661"
      ]
     },
     "metadata": {},
     "output_type": "display_data"
    }
   ],
   "source": [
    "var(iris$Sepal.Length)      #「花萼長度」的變異數\n",
    "sd(iris$Sepal.Length)       #「花萼長度」的標準差\n",
    "range(iris$Sepal.Length)    #「花萼長度」最小值和最大值(全距)\n",
    "sd(iris$Sepal.Length)  #標準差"
   ]
  },
  {
   "cell_type": "code",
   "execution_count": 14,
   "metadata": {},
   "outputs": [
    {
     "data": {
      "text/html": [
       "<strong>25%:</strong> 5.1"
      ],
      "text/latex": [
       "\\textbf{25\\textbackslash{}\\%:} 5.1"
      ],
      "text/markdown": [
       "**25%:** 5.1"
      ],
      "text/plain": [
       "25% \n",
       "5.1 "
      ]
     },
     "metadata": {},
     "output_type": "display_data"
    },
    {
     "data": {
      "text/html": [
       "<strong>75%:</strong> 6.4"
      ],
      "text/latex": [
       "\\textbf{75\\textbackslash{}\\%:} 6.4"
      ],
      "text/markdown": [
       "**75%:** 6.4"
      ],
      "text/plain": [
       "75% \n",
       "6.4 "
      ]
     },
     "metadata": {},
     "output_type": "display_data"
    }
   ],
   "source": [
    "quantile(iris$Sepal.Length, probs=0.25)  # 第一四分位數 \n",
    "quantile(iris$Sepal.Length, probs=0.75)  # 第三四分位數\n"
   ]
  },
  {
   "cell_type": "markdown",
   "metadata": {},
   "source": [
    "## [Part 3].Basic Visualization\n",
    "\n",
    "- 在R中，有三個常用的畫圖套件，包括基本功能(Base)、lattice以及ggplot2\n",
    "- 本文基於時間關係, 僅介紹基本功能(Base)"
   ]
  },
  {
   "cell_type": "code",
   "execution_count": 15,
   "metadata": {},
   "outputs": [],
   "source": [
    "rm()  #清除所有物件 \n",
    "library(graphics)"
   ]
  },
  {
   "cell_type": "markdown",
   "metadata": {},
   "source": [
    "### 3-1. Simple Plots-Bar plot"
   ]
  },
  {
   "cell_type": "code",
   "execution_count": 16,
   "metadata": {},
   "outputs": [
    {
     "data": {
      "image/png": "[encoded data removed]",
      "text/plain": [
       "plot without title"
      ]
     },
     "metadata": {},
     "output_type": "display_data"
    }
   ],
   "source": [
    "data(iris)\n",
    "x=sample(1:150,50) #從1~150中隨機挑選50個數字\n",
    "plot(iris[x,5])"
   ]
  },
  {
   "cell_type": "markdown",
   "metadata": {},
   "source": [
    "### 3-2. Simple Plots-Scatter Plot"
   ]
  },
  {
   "cell_type": "code",
   "execution_count": 17,
   "metadata": {},
   "outputs": [
    {
     "data": {
      "image/png": "[encoded data removed]",
      "text/plain": [
       "plot without title"
      ]
     },
     "metadata": {},
     "output_type": "display_data"
    }
   ],
   "source": [
    "plot(iris$Petal.Length, iris$Petal.Width, pch=19, col=iris$Species)\n",
    "abline(lm(iris$Petal.Width~iris$Petal.Length), col=\"blue\") #abline是畫一條線（本例而言是畫迴歸線 lm)"
   ]
  },
  {
   "cell_type": "code",
   "execution_count": 18,
   "metadata": {},
   "outputs": [
    {
     "data": {
      "image/png": "[encoded data removed]",
      "text/plain": [
       "plot without title"
      ]
     },
     "metadata": {},
     "output_type": "display_data"
    }
   ],
   "source": [
    "plot(iris[,1:3])\n",
    "plot(~Sepal.Length+Sepal.Width+Petal.Length,data=iris)"
   ]
  },
  {
   "cell_type": "markdown",
   "metadata": {},
   "source": [
    "### 3-3. Simple Plots-Box plot\n",
    "\n",
    "順便教一下怎樣在同一張圖上畫很多圖"
   ]
  },
  {
   "cell_type": "code",
   "execution_count": 19,
   "metadata": {},
   "outputs": [
    {
     "data": {
      "text/html": [
       "<strong>null device:</strong> 1"
      ],
      "text/latex": [
       "\\textbf{null device:} 1"
      ],
      "text/markdown": [
       "**null device:** 1"
      ],
      "text/plain": [
       "null device \n",
       "          1 "
      ]
     },
     "metadata": {},
     "output_type": "display_data"
    },
    {
     "data": {
      "image/png": "[encoded data removed]",
      "text/plain": [
       "Plot with title “Petal Width wrt Species”"
      ]
     },
     "metadata": {},
     "output_type": "display_data"
    }
   ],
   "source": [
    "par(mfrow=c(2,2))\n",
    "boxplot(Sepal.Length  ~ Species, iris, main = \"Sepal Length wrt Species\", col = \"lightpink3\")\n",
    "boxplot(Sepal.Width   ~ Species, iris, main = \"Sepal Width wrt Species\", col = \"antiquewhite1\")\n",
    "boxplot(Petal.Length  ~ Species, iris, main = \"Petal Length wrt Species\", col = \"lightskyblue4\")\n",
    "boxplot(Petal.Width  ~ Species, iris, main = \"Petal Width wrt Species\", col = \"orange1\")\n",
    "\n",
    "dev.off()"
   ]
  },
  {
   "cell_type": "markdown",
   "metadata": {},
   "source": [
    "### 3-4.Simple Plots-Histgram"
   ]
  },
  {
   "cell_type": "code",
   "execution_count": 20,
   "metadata": {},
   "outputs": [
    {
     "data": {
      "image/png": "[encoded data removed]",
      "text/plain": [
       "Plot with title “Histogram of iris$Sepal.Length”"
      ]
     },
     "metadata": {},
     "output_type": "display_data"
    }
   ],
   "source": [
    "h3<-hist(iris$Sepal.Length, breaks=seq(4,8,by=0.4), prob=TRUE) \n",
    "m = mean(iris$Sepal.Length)\n",
    "std = sqrt(var(iris$Sepal.Length))\n",
    "\n",
    "curve(dnorm(x, mean=m, sd=std), col=\"darkblue\", lwd=2, add=TRUE) #add=TRUE 是將曲線疊加上去"
   ]
  },
  {
   "cell_type": "markdown",
   "metadata": {},
   "source": [
    "### 如果我想要畫很多張圖在一個頁面上"
   ]
  },
  {
   "cell_type": "code",
   "execution_count": 21,
   "metadata": {},
   "outputs": [
    {
     "data": {
      "image/png": "[encoded data removed]",
      "text/plain": [
       "Plot with title “Histogram of iris[, 1]”"
      ]
     },
     "metadata": {},
     "output_type": "display_data"
    }
   ],
   "source": [
    "par(mfrow=c(2,2))\n",
    "plot(iris[x,5])\n",
    "plot(Petal.Width~Petal.Length,data=iris)\n",
    "boxplot(Sepal.Length~Species,data=iris)\n",
    "hist(iris[, 1], breaks = 4)"
   ]
  },
  {
   "cell_type": "code",
   "execution_count": 22,
   "metadata": {},
   "outputs": [
    {
     "data": {
      "text/html": [
       "<strong>null device:</strong> 1"
      ],
      "text/latex": [
       "\\textbf{null device:} 1"
      ],
      "text/markdown": [
       "**null device:** 1"
      ],
      "text/plain": [
       "null device \n",
       "          1 "
      ]
     },
     "metadata": {},
     "output_type": "display_data"
    }
   ],
   "source": [
    "dev.off()#把圖型清除"
   ]
  },
  {
   "cell_type": "markdown",
   "metadata": {},
   "source": [
    "## [PART 4]. Data ETL"
   ]
  },
  {
   "cell_type": "markdown",
   "metadata": {},
   "source": [
    "本小節主要在教以下三個方法\n",
    "\n",
    "- 重新編碼\n",
    "- 資料變形\n",
    "- 資料合併與分割"
   ]
  },
  {
   "cell_type": "markdown",
   "metadata": {},
   "source": [
    "### 4-1.重新編碼\n",
    "分析資料前常常需要再次整理資料，方便日後做分析，整理資料第一步往往是將資料的調整值經過一些調整"
   ]
  },
  {
   "cell_type": "code",
   "execution_count": 23,
   "metadata": {},
   "outputs": [
    {
     "name": "stderr",
     "output_type": "stream",
     "text": [
      "\n",
      "Attaching package: ‘dplyr’\n",
      "\n",
      "The following objects are masked from ‘package:stats’:\n",
      "\n",
      "    filter, lag\n",
      "\n",
      "The following objects are masked from ‘package:base’:\n",
      "\n",
      "    intersect, setdiff, setequal, union\n",
      "\n"
     ]
    }
   ],
   "source": [
    "library(dplyr)"
   ]
  },
  {
   "cell_type": "code",
   "execution_count": 24,
   "metadata": {},
   "outputs": [
    {
     "data": {
      "text/html": [
       "<table>\n",
       "<thead><tr><th scope=col>Sepal.Length</th><th scope=col>Sepal.Width</th><th scope=col>Petal.Length</th><th scope=col>Petal.Width</th><th scope=col>Species</th></tr></thead>\n",
       "<tbody>\n",
       "\t<tr><td>1       </td><td>3.5     </td><td>1.4     </td><td>0.2     </td><td>IsSetosa</td></tr>\n",
       "\t<tr><td>2       </td><td>3.0     </td><td>1.4     </td><td>0.2     </td><td>IsSetosa</td></tr>\n",
       "\t<tr><td>2       </td><td>3.2     </td><td>1.3     </td><td>0.2     </td><td>IsSetosa</td></tr>\n",
       "\t<tr><td>2       </td><td>3.1     </td><td>1.5     </td><td>0.2     </td><td>IsSetosa</td></tr>\n",
       "\t<tr><td>2       </td><td>3.6     </td><td>1.4     </td><td>0.2     </td><td>IsSetosa</td></tr>\n",
       "\t<tr><td>1       </td><td>3.9     </td><td>1.7     </td><td>0.4     </td><td>IsSetosa</td></tr>\n",
       "</tbody>\n",
       "</table>\n"
      ],
      "text/latex": [
       "\\begin{tabular}{r|lllll}\n",
       " Sepal.Length & Sepal.Width & Petal.Length & Petal.Width & Species\\\\\n",
       "\\hline\n",
       "\t 1        & 3.5      & 1.4      & 0.2      & IsSetosa\\\\\n",
       "\t 2        & 3.0      & 1.4      & 0.2      & IsSetosa\\\\\n",
       "\t 2        & 3.2      & 1.3      & 0.2      & IsSetosa\\\\\n",
       "\t 2        & 3.1      & 1.5      & 0.2      & IsSetosa\\\\\n",
       "\t 2        & 3.6      & 1.4      & 0.2      & IsSetosa\\\\\n",
       "\t 1        & 3.9      & 1.7      & 0.4      & IsSetosa\\\\\n",
       "\\end{tabular}\n"
      ],
      "text/markdown": [
       "\n",
       "Sepal.Length | Sepal.Width | Petal.Length | Petal.Width | Species | \n",
       "|---|---|---|---|---|---|\n",
       "| 1        | 3.5      | 1.4      | 0.2      | IsSetosa | \n",
       "| 2        | 3.0      | 1.4      | 0.2      | IsSetosa | \n",
       "| 2        | 3.2      | 1.3      | 0.2      | IsSetosa | \n",
       "| 2        | 3.1      | 1.5      | 0.2      | IsSetosa | \n",
       "| 2        | 3.6      | 1.4      | 0.2      | IsSetosa | \n",
       "| 1        | 3.9      | 1.7      | 0.4      | IsSetosa | \n",
       "\n",
       "\n"
      ],
      "text/plain": [
       "  Sepal.Length Sepal.Width Petal.Length Petal.Width Species \n",
       "1 1            3.5         1.4          0.2         IsSetosa\n",
       "2 2            3.0         1.4          0.2         IsSetosa\n",
       "3 2            3.2         1.3          0.2         IsSetosa\n",
       "4 2            3.1         1.5          0.2         IsSetosa\n",
       "5 2            3.6         1.4          0.2         IsSetosa\n",
       "6 1            3.9         1.7          0.4         IsSetosa"
      ]
     },
     "metadata": {},
     "output_type": "display_data"
    }
   ],
   "source": [
    "data$Sepal.Length <- ifelse(data$Sepal.Length > 5, 1,2) # Sepal.Length 如果大於 5 會變成 1，不會就會變成 2\n",
    "data$Species <- ifelse(data$Species %in% \"setosa\", \"IsSetosa\",\"Notsetosa\") # %in% 代表有包含到的概念\n",
    "\n",
    "head(data)"
   ]
  },
  {
   "cell_type": "markdown",
   "metadata": {},
   "source": [
    "### 4-2. 資料篩選 分割"
   ]
  },
  {
   "cell_type": "code",
   "execution_count": 25,
   "metadata": {},
   "outputs": [
    {
     "data": {
      "text/html": [
       "<table>\n",
       "<thead><tr><th scope=col>Sepal.Length</th><th scope=col>Sepal.Width</th><th scope=col>Petal.Length</th><th scope=col>Petal.Width</th><th scope=col>Species</th></tr></thead>\n",
       "<tbody>\n",
       "\t<tr><td>5.1   </td><td>3.5   </td><td>1.4   </td><td>0.2   </td><td>setosa</td></tr>\n",
       "\t<tr><td>4.9   </td><td>3.0   </td><td>1.4   </td><td>0.2   </td><td>setosa</td></tr>\n",
       "\t<tr><td>4.7   </td><td>3.2   </td><td>1.3   </td><td>0.2   </td><td>setosa</td></tr>\n",
       "</tbody>\n",
       "</table>\n"
      ],
      "text/latex": [
       "\\begin{tabular}{r|lllll}\n",
       " Sepal.Length & Sepal.Width & Petal.Length & Petal.Width & Species\\\\\n",
       "\\hline\n",
       "\t 5.1    & 3.5    & 1.4    & 0.2    & setosa\\\\\n",
       "\t 4.9    & 3.0    & 1.4    & 0.2    & setosa\\\\\n",
       "\t 4.7    & 3.2    & 1.3    & 0.2    & setosa\\\\\n",
       "\\end{tabular}\n"
      ],
      "text/markdown": [
       "\n",
       "Sepal.Length | Sepal.Width | Petal.Length | Petal.Width | Species | \n",
       "|---|---|---|\n",
       "| 5.1    | 3.5    | 1.4    | 0.2    | setosa | \n",
       "| 4.9    | 3.0    | 1.4    | 0.2    | setosa | \n",
       "| 4.7    | 3.2    | 1.3    | 0.2    | setosa | \n",
       "\n",
       "\n"
      ],
      "text/plain": [
       "  Sepal.Length Sepal.Width Petal.Length Petal.Width Species\n",
       "1 5.1          3.5         1.4          0.2         setosa \n",
       "2 4.9          3.0         1.4          0.2         setosa \n",
       "3 4.7          3.2         1.3          0.2         setosa "
      ]
     },
     "metadata": {},
     "output_type": "display_data"
    },
    {
     "data": {
      "text/html": [
       "<ol class=list-inline>\n",
       "\t<li>setosa</li>\n",
       "\t<li>setosa</li>\n",
       "\t<li>setosa</li>\n",
       "\t<li>setosa</li>\n",
       "\t<li>setosa</li>\n",
       "\t<li>setosa</li>\n",
       "\t<li>setosa</li>\n",
       "\t<li>setosa</li>\n",
       "\t<li>setosa</li>\n",
       "\t<li>setosa</li>\n",
       "\t<li>setosa</li>\n",
       "\t<li>setosa</li>\n",
       "\t<li>setosa</li>\n",
       "\t<li>setosa</li>\n",
       "\t<li>setosa</li>\n",
       "\t<li>setosa</li>\n",
       "\t<li>setosa</li>\n",
       "\t<li>setosa</li>\n",
       "\t<li>setosa</li>\n",
       "\t<li>setosa</li>\n",
       "\t<li>setosa</li>\n",
       "\t<li>setosa</li>\n",
       "\t<li>setosa</li>\n",
       "\t<li>setosa</li>\n",
       "\t<li>setosa</li>\n",
       "\t<li>setosa</li>\n",
       "\t<li>setosa</li>\n",
       "\t<li>setosa</li>\n",
       "\t<li>setosa</li>\n",
       "\t<li>setosa</li>\n",
       "\t<li>setosa</li>\n",
       "\t<li>setosa</li>\n",
       "\t<li>setosa</li>\n",
       "\t<li>setosa</li>\n",
       "\t<li>setosa</li>\n",
       "\t<li>setosa</li>\n",
       "\t<li>setosa</li>\n",
       "\t<li>setosa</li>\n",
       "\t<li>setosa</li>\n",
       "\t<li>setosa</li>\n",
       "\t<li>setosa</li>\n",
       "\t<li>setosa</li>\n",
       "\t<li>setosa</li>\n",
       "\t<li>setosa</li>\n",
       "\t<li>setosa</li>\n",
       "\t<li>setosa</li>\n",
       "\t<li>setosa</li>\n",
       "\t<li>setosa</li>\n",
       "\t<li>setosa</li>\n",
       "\t<li>setosa</li>\n",
       "\t<li>versicolor</li>\n",
       "\t<li>versicolor</li>\n",
       "\t<li>versicolor</li>\n",
       "\t<li>versicolor</li>\n",
       "\t<li>versicolor</li>\n",
       "\t<li>versicolor</li>\n",
       "\t<li>versicolor</li>\n",
       "\t<li>versicolor</li>\n",
       "\t<li>versicolor</li>\n",
       "\t<li>versicolor</li>\n",
       "\t<li>versicolor</li>\n",
       "\t<li>versicolor</li>\n",
       "\t<li>versicolor</li>\n",
       "\t<li>versicolor</li>\n",
       "\t<li>versicolor</li>\n",
       "\t<li>versicolor</li>\n",
       "\t<li>versicolor</li>\n",
       "\t<li>versicolor</li>\n",
       "\t<li>versicolor</li>\n",
       "\t<li>versicolor</li>\n",
       "\t<li>versicolor</li>\n",
       "\t<li>versicolor</li>\n",
       "\t<li>versicolor</li>\n",
       "\t<li>versicolor</li>\n",
       "\t<li>versicolor</li>\n",
       "\t<li>versicolor</li>\n",
       "\t<li>versicolor</li>\n",
       "\t<li>versicolor</li>\n",
       "\t<li>versicolor</li>\n",
       "\t<li>versicolor</li>\n",
       "\t<li>versicolor</li>\n",
       "\t<li>versicolor</li>\n",
       "\t<li>versicolor</li>\n",
       "\t<li>versicolor</li>\n",
       "\t<li>versicolor</li>\n",
       "\t<li>versicolor</li>\n",
       "\t<li>versicolor</li>\n",
       "\t<li>versicolor</li>\n",
       "\t<li>versicolor</li>\n",
       "\t<li>versicolor</li>\n",
       "\t<li>versicolor</li>\n",
       "\t<li>versicolor</li>\n",
       "\t<li>versicolor</li>\n",
       "\t<li>versicolor</li>\n",
       "\t<li>versicolor</li>\n",
       "\t<li>versicolor</li>\n",
       "\t<li>versicolor</li>\n",
       "\t<li>versicolor</li>\n",
       "\t<li>versicolor</li>\n",
       "\t<li>versicolor</li>\n",
       "\t<li>virginica</li>\n",
       "\t<li>virginica</li>\n",
       "\t<li>virginica</li>\n",
       "\t<li>virginica</li>\n",
       "\t<li>virginica</li>\n",
       "\t<li>virginica</li>\n",
       "\t<li>virginica</li>\n",
       "\t<li>virginica</li>\n",
       "\t<li>virginica</li>\n",
       "\t<li>virginica</li>\n",
       "\t<li>virginica</li>\n",
       "\t<li>virginica</li>\n",
       "\t<li>virginica</li>\n",
       "\t<li>virginica</li>\n",
       "\t<li>virginica</li>\n",
       "\t<li>virginica</li>\n",
       "\t<li>virginica</li>\n",
       "\t<li>virginica</li>\n",
       "\t<li>virginica</li>\n",
       "\t<li>virginica</li>\n",
       "\t<li>virginica</li>\n",
       "\t<li>virginica</li>\n",
       "\t<li>virginica</li>\n",
       "\t<li>virginica</li>\n",
       "\t<li>virginica</li>\n",
       "\t<li>virginica</li>\n",
       "\t<li>virginica</li>\n",
       "\t<li>virginica</li>\n",
       "\t<li>virginica</li>\n",
       "\t<li>virginica</li>\n",
       "\t<li>virginica</li>\n",
       "\t<li>virginica</li>\n",
       "\t<li>virginica</li>\n",
       "\t<li>virginica</li>\n",
       "\t<li>virginica</li>\n",
       "\t<li>virginica</li>\n",
       "\t<li>virginica</li>\n",
       "\t<li>virginica</li>\n",
       "\t<li>virginica</li>\n",
       "\t<li>virginica</li>\n",
       "\t<li>virginica</li>\n",
       "\t<li>virginica</li>\n",
       "\t<li>virginica</li>\n",
       "\t<li>virginica</li>\n",
       "\t<li>virginica</li>\n",
       "\t<li>virginica</li>\n",
       "\t<li>virginica</li>\n",
       "\t<li>virginica</li>\n",
       "\t<li>virginica</li>\n",
       "\t<li>virginica</li>\n",
       "</ol>\n",
       "\n",
       "<details>\n",
       "\t<summary style=display:list-item;cursor:pointer>\n",
       "\t\t<strong>Levels</strong>:\n",
       "\t</summary>\n",
       "\t<ol class=list-inline>\n",
       "\t\t<li>'setosa'</li>\n",
       "\t\t<li>'versicolor'</li>\n",
       "\t\t<li>'virginica'</li>\n",
       "\t</ol>\n",
       "</details>"
      ],
      "text/latex": [
       "\\begin{enumerate*}\n",
       "\\item setosa\n",
       "\\item setosa\n",
       "\\item setosa\n",
       "\\item setosa\n",
       "\\item setosa\n",
       "\\item setosa\n",
       "\\item setosa\n",
       "\\item setosa\n",
       "\\item setosa\n",
       "\\item setosa\n",
       "\\item setosa\n",
       "\\item setosa\n",
       "\\item setosa\n",
       "\\item setosa\n",
       "\\item setosa\n",
       "\\item setosa\n",
       "\\item setosa\n",
       "\\item setosa\n",
       "\\item setosa\n",
       "\\item setosa\n",
       "\\item setosa\n",
       "\\item setosa\n",
       "\\item setosa\n",
       "\\item setosa\n",
       "\\item setosa\n",
       "\\item setosa\n",
       "\\item setosa\n",
       "\\item setosa\n",
       "\\item setosa\n",
       "\\item setosa\n",
       "\\item setosa\n",
       "\\item setosa\n",
       "\\item setosa\n",
       "\\item setosa\n",
       "\\item setosa\n",
       "\\item setosa\n",
       "\\item setosa\n",
       "\\item setosa\n",
       "\\item setosa\n",
       "\\item setosa\n",
       "\\item setosa\n",
       "\\item setosa\n",
       "\\item setosa\n",
       "\\item setosa\n",
       "\\item setosa\n",
       "\\item setosa\n",
       "\\item setosa\n",
       "\\item setosa\n",
       "\\item setosa\n",
       "\\item setosa\n",
       "\\item versicolor\n",
       "\\item versicolor\n",
       "\\item versicolor\n",
       "\\item versicolor\n",
       "\\item versicolor\n",
       "\\item versicolor\n",
       "\\item versicolor\n",
       "\\item versicolor\n",
       "\\item versicolor\n",
       "\\item versicolor\n",
       "\\item versicolor\n",
       "\\item versicolor\n",
       "\\item versicolor\n",
       "\\item versicolor\n",
       "\\item versicolor\n",
       "\\item versicolor\n",
       "\\item versicolor\n",
       "\\item versicolor\n",
       "\\item versicolor\n",
       "\\item versicolor\n",
       "\\item versicolor\n",
       "\\item versicolor\n",
       "\\item versicolor\n",
       "\\item versicolor\n",
       "\\item versicolor\n",
       "\\item versicolor\n",
       "\\item versicolor\n",
       "\\item versicolor\n",
       "\\item versicolor\n",
       "\\item versicolor\n",
       "\\item versicolor\n",
       "\\item versicolor\n",
       "\\item versicolor\n",
       "\\item versicolor\n",
       "\\item versicolor\n",
       "\\item versicolor\n",
       "\\item versicolor\n",
       "\\item versicolor\n",
       "\\item versicolor\n",
       "\\item versicolor\n",
       "\\item versicolor\n",
       "\\item versicolor\n",
       "\\item versicolor\n",
       "\\item versicolor\n",
       "\\item versicolor\n",
       "\\item versicolor\n",
       "\\item versicolor\n",
       "\\item versicolor\n",
       "\\item versicolor\n",
       "\\item versicolor\n",
       "\\item virginica\n",
       "\\item virginica\n",
       "\\item virginica\n",
       "\\item virginica\n",
       "\\item virginica\n",
       "\\item virginica\n",
       "\\item virginica\n",
       "\\item virginica\n",
       "\\item virginica\n",
       "\\item virginica\n",
       "\\item virginica\n",
       "\\item virginica\n",
       "\\item virginica\n",
       "\\item virginica\n",
       "\\item virginica\n",
       "\\item virginica\n",
       "\\item virginica\n",
       "\\item virginica\n",
       "\\item virginica\n",
       "\\item virginica\n",
       "\\item virginica\n",
       "\\item virginica\n",
       "\\item virginica\n",
       "\\item virginica\n",
       "\\item virginica\n",
       "\\item virginica\n",
       "\\item virginica\n",
       "\\item virginica\n",
       "\\item virginica\n",
       "\\item virginica\n",
       "\\item virginica\n",
       "\\item virginica\n",
       "\\item virginica\n",
       "\\item virginica\n",
       "\\item virginica\n",
       "\\item virginica\n",
       "\\item virginica\n",
       "\\item virginica\n",
       "\\item virginica\n",
       "\\item virginica\n",
       "\\item virginica\n",
       "\\item virginica\n",
       "\\item virginica\n",
       "\\item virginica\n",
       "\\item virginica\n",
       "\\item virginica\n",
       "\\item virginica\n",
       "\\item virginica\n",
       "\\item virginica\n",
       "\\item virginica\n",
       "\\end{enumerate*}\n",
       "\n",
       "\\emph{Levels}: \\begin{enumerate*}\n",
       "\\item 'setosa'\n",
       "\\item 'versicolor'\n",
       "\\item 'virginica'\n",
       "\\end{enumerate*}\n"
      ],
      "text/markdown": [
       "1. setosa\n",
       "2. setosa\n",
       "3. setosa\n",
       "4. setosa\n",
       "5. setosa\n",
       "6. setosa\n",
       "7. setosa\n",
       "8. setosa\n",
       "9. setosa\n",
       "10. setosa\n",
       "11. setosa\n",
       "12. setosa\n",
       "13. setosa\n",
       "14. setosa\n",
       "15. setosa\n",
       "16. setosa\n",
       "17. setosa\n",
       "18. setosa\n",
       "19. setosa\n",
       "20. setosa\n",
       "21. setosa\n",
       "22. setosa\n",
       "23. setosa\n",
       "24. setosa\n",
       "25. setosa\n",
       "26. setosa\n",
       "27. setosa\n",
       "28. setosa\n",
       "29. setosa\n",
       "30. setosa\n",
       "31. setosa\n",
       "32. setosa\n",
       "33. setosa\n",
       "34. setosa\n",
       "35. setosa\n",
       "36. setosa\n",
       "37. setosa\n",
       "38. setosa\n",
       "39. setosa\n",
       "40. setosa\n",
       "41. setosa\n",
       "42. setosa\n",
       "43. setosa\n",
       "44. setosa\n",
       "45. setosa\n",
       "46. setosa\n",
       "47. setosa\n",
       "48. setosa\n",
       "49. setosa\n",
       "50. setosa\n",
       "51. versicolor\n",
       "52. versicolor\n",
       "53. versicolor\n",
       "54. versicolor\n",
       "55. versicolor\n",
       "56. versicolor\n",
       "57. versicolor\n",
       "58. versicolor\n",
       "59. versicolor\n",
       "60. versicolor\n",
       "61. versicolor\n",
       "62. versicolor\n",
       "63. versicolor\n",
       "64. versicolor\n",
       "65. versicolor\n",
       "66. versicolor\n",
       "67. versicolor\n",
       "68. versicolor\n",
       "69. versicolor\n",
       "70. versicolor\n",
       "71. versicolor\n",
       "72. versicolor\n",
       "73. versicolor\n",
       "74. versicolor\n",
       "75. versicolor\n",
       "76. versicolor\n",
       "77. versicolor\n",
       "78. versicolor\n",
       "79. versicolor\n",
       "80. versicolor\n",
       "81. versicolor\n",
       "82. versicolor\n",
       "83. versicolor\n",
       "84. versicolor\n",
       "85. versicolor\n",
       "86. versicolor\n",
       "87. versicolor\n",
       "88. versicolor\n",
       "89. versicolor\n",
       "90. versicolor\n",
       "91. versicolor\n",
       "92. versicolor\n",
       "93. versicolor\n",
       "94. versicolor\n",
       "95. versicolor\n",
       "96. versicolor\n",
       "97. versicolor\n",
       "98. versicolor\n",
       "99. versicolor\n",
       "100. versicolor\n",
       "101. virginica\n",
       "102. virginica\n",
       "103. virginica\n",
       "104. virginica\n",
       "105. virginica\n",
       "106. virginica\n",
       "107. virginica\n",
       "108. virginica\n",
       "109. virginica\n",
       "110. virginica\n",
       "111. virginica\n",
       "112. virginica\n",
       "113. virginica\n",
       "114. virginica\n",
       "115. virginica\n",
       "116. virginica\n",
       "117. virginica\n",
       "118. virginica\n",
       "119. virginica\n",
       "120. virginica\n",
       "121. virginica\n",
       "122. virginica\n",
       "123. virginica\n",
       "124. virginica\n",
       "125. virginica\n",
       "126. virginica\n",
       "127. virginica\n",
       "128. virginica\n",
       "129. virginica\n",
       "130. virginica\n",
       "131. virginica\n",
       "132. virginica\n",
       "133. virginica\n",
       "134. virginica\n",
       "135. virginica\n",
       "136. virginica\n",
       "137. virginica\n",
       "138. virginica\n",
       "139. virginica\n",
       "140. virginica\n",
       "141. virginica\n",
       "142. virginica\n",
       "143. virginica\n",
       "144. virginica\n",
       "145. virginica\n",
       "146. virginica\n",
       "147. virginica\n",
       "148. virginica\n",
       "149. virginica\n",
       "150. virginica\n",
       "\n",
       "\n",
       "\n",
       "**Levels**: 1. 'setosa'\n",
       "2. 'versicolor'\n",
       "3. 'virginica'\n",
       "\n",
       "\n"
      ],
      "text/plain": [
       "  [1] setosa     setosa     setosa     setosa     setosa     setosa    \n",
       "  [7] setosa     setosa     setosa     setosa     setosa     setosa    \n",
       " [13] setosa     setosa     setosa     setosa     setosa     setosa    \n",
       " [19] setosa     setosa     setosa     setosa     setosa     setosa    \n",
       " [25] setosa     setosa     setosa     setosa     setosa     setosa    \n",
       " [31] setosa     setosa     setosa     setosa     setosa     setosa    \n",
       " [37] setosa     setosa     setosa     setosa     setosa     setosa    \n",
       " [43] setosa     setosa     setosa     setosa     setosa     setosa    \n",
       " [49] setosa     setosa     versicolor versicolor versicolor versicolor\n",
       " [55] versicolor versicolor versicolor versicolor versicolor versicolor\n",
       " [61] versicolor versicolor versicolor versicolor versicolor versicolor\n",
       " [67] versicolor versicolor versicolor versicolor versicolor versicolor\n",
       " [73] versicolor versicolor versicolor versicolor versicolor versicolor\n",
       " [79] versicolor versicolor versicolor versicolor versicolor versicolor\n",
       " [85] versicolor versicolor versicolor versicolor versicolor versicolor\n",
       " [91] versicolor versicolor versicolor versicolor versicolor versicolor\n",
       " [97] versicolor versicolor versicolor versicolor virginica  virginica \n",
       "[103] virginica  virginica  virginica  virginica  virginica  virginica \n",
       "[109] virginica  virginica  virginica  virginica  virginica  virginica \n",
       "[115] virginica  virginica  virginica  virginica  virginica  virginica \n",
       "[121] virginica  virginica  virginica  virginica  virginica  virginica \n",
       "[127] virginica  virginica  virginica  virginica  virginica  virginica \n",
       "[133] virginica  virginica  virginica  virginica  virginica  virginica \n",
       "[139] virginica  virginica  virginica  virginica  virginica  virginica \n",
       "[145] virginica  virginica  virginica  virginica  virginica  virginica \n",
       "Levels: setosa versicolor virginica"
      ]
     },
     "metadata": {},
     "output_type": "display_data"
    }
   ],
   "source": [
    "data(iris)\n",
    "iris[1:3,] ##第1~3列Row，所有的行Column\n",
    "iris[,\"Species\"] ##所有的列Row，名稱為Species的行Column"
   ]
  },
  {
   "cell_type": "code",
   "execution_count": 41,
   "metadata": {},
   "outputs": [
    {
     "data": {
      "text/html": [
       "<table>\n",
       "<thead><tr><th></th><th scope=col>Sepal.Length</th><th scope=col>Sepal.Width</th><th scope=col>Petal.Length</th><th scope=col>Petal.Width</th><th scope=col>Species</th></tr></thead>\n",
       "<tbody>\n",
       "\t<tr><th scope=row>101</th><td>6.3      </td><td>3.3      </td><td>6.0      </td><td>2.5      </td><td>virginica</td></tr>\n",
       "\t<tr><th scope=row>102</th><td>5.8      </td><td>2.7      </td><td>5.1      </td><td>1.9      </td><td>virginica</td></tr>\n",
       "\t<tr><th scope=row>103</th><td>7.1      </td><td>3.0      </td><td>5.9      </td><td>2.1      </td><td>virginica</td></tr>\n",
       "\t<tr><th scope=row>104</th><td>6.3      </td><td>2.9      </td><td>5.6      </td><td>1.8      </td><td>virginica</td></tr>\n",
       "\t<tr><th scope=row>105</th><td>6.5      </td><td>3.0      </td><td>5.8      </td><td>2.2      </td><td>virginica</td></tr>\n",
       "\t<tr><th scope=row>106</th><td>7.6      </td><td>3.0      </td><td>6.6      </td><td>2.1      </td><td>virginica</td></tr>\n",
       "\t<tr><th scope=row>107</th><td>4.9      </td><td>2.5      </td><td>4.5      </td><td>1.7      </td><td>virginica</td></tr>\n",
       "\t<tr><th scope=row>108</th><td>7.3      </td><td>2.9      </td><td>6.3      </td><td>1.8      </td><td>virginica</td></tr>\n",
       "\t<tr><th scope=row>109</th><td>6.7      </td><td>2.5      </td><td>5.8      </td><td>1.8      </td><td>virginica</td></tr>\n",
       "\t<tr><th scope=row>110</th><td>7.2      </td><td>3.6      </td><td>6.1      </td><td>2.5      </td><td>virginica</td></tr>\n",
       "\t<tr><th scope=row>111</th><td>6.5      </td><td>3.2      </td><td>5.1      </td><td>2.0      </td><td>virginica</td></tr>\n",
       "\t<tr><th scope=row>112</th><td>6.4      </td><td>2.7      </td><td>5.3      </td><td>1.9      </td><td>virginica</td></tr>\n",
       "\t<tr><th scope=row>113</th><td>6.8      </td><td>3.0      </td><td>5.5      </td><td>2.1      </td><td>virginica</td></tr>\n",
       "\t<tr><th scope=row>114</th><td>5.7      </td><td>2.5      </td><td>5.0      </td><td>2.0      </td><td>virginica</td></tr>\n",
       "\t<tr><th scope=row>115</th><td>5.8      </td><td>2.8      </td><td>5.1      </td><td>2.4      </td><td>virginica</td></tr>\n",
       "\t<tr><th scope=row>116</th><td>6.4      </td><td>3.2      </td><td>5.3      </td><td>2.3      </td><td>virginica</td></tr>\n",
       "\t<tr><th scope=row>117</th><td>6.5      </td><td>3.0      </td><td>5.5      </td><td>1.8      </td><td>virginica</td></tr>\n",
       "\t<tr><th scope=row>118</th><td>7.7      </td><td>3.8      </td><td>6.7      </td><td>2.2      </td><td>virginica</td></tr>\n",
       "\t<tr><th scope=row>119</th><td>7.7      </td><td>2.6      </td><td>6.9      </td><td>2.3      </td><td>virginica</td></tr>\n",
       "\t<tr><th scope=row>120</th><td>6.0      </td><td>2.2      </td><td>5.0      </td><td>1.5      </td><td>virginica</td></tr>\n",
       "\t<tr><th scope=row>121</th><td>6.9      </td><td>3.2      </td><td>5.7      </td><td>2.3      </td><td>virginica</td></tr>\n",
       "\t<tr><th scope=row>122</th><td>5.6      </td><td>2.8      </td><td>4.9      </td><td>2.0      </td><td>virginica</td></tr>\n",
       "\t<tr><th scope=row>123</th><td>7.7      </td><td>2.8      </td><td>6.7      </td><td>2.0      </td><td>virginica</td></tr>\n",
       "\t<tr><th scope=row>124</th><td>6.3      </td><td>2.7      </td><td>4.9      </td><td>1.8      </td><td>virginica</td></tr>\n",
       "\t<tr><th scope=row>125</th><td>6.7      </td><td>3.3      </td><td>5.7      </td><td>2.1      </td><td>virginica</td></tr>\n",
       "\t<tr><th scope=row>126</th><td>7.2      </td><td>3.2      </td><td>6.0      </td><td>1.8      </td><td>virginica</td></tr>\n",
       "\t<tr><th scope=row>127</th><td>6.2      </td><td>2.8      </td><td>4.8      </td><td>1.8      </td><td>virginica</td></tr>\n",
       "\t<tr><th scope=row>128</th><td>6.1      </td><td>3.0      </td><td>4.9      </td><td>1.8      </td><td>virginica</td></tr>\n",
       "\t<tr><th scope=row>129</th><td>6.4      </td><td>2.8      </td><td>5.6      </td><td>2.1      </td><td>virginica</td></tr>\n",
       "\t<tr><th scope=row>130</th><td>7.2      </td><td>3.0      </td><td>5.8      </td><td>1.6      </td><td>virginica</td></tr>\n",
       "\t<tr><th scope=row>131</th><td>7.4      </td><td>2.8      </td><td>6.1      </td><td>1.9      </td><td>virginica</td></tr>\n",
       "\t<tr><th scope=row>132</th><td>7.9      </td><td>3.8      </td><td>6.4      </td><td>2.0      </td><td>virginica</td></tr>\n",
       "\t<tr><th scope=row>133</th><td>6.4      </td><td>2.8      </td><td>5.6      </td><td>2.2      </td><td>virginica</td></tr>\n",
       "\t<tr><th scope=row>134</th><td>6.3      </td><td>2.8      </td><td>5.1      </td><td>1.5      </td><td>virginica</td></tr>\n",
       "\t<tr><th scope=row>135</th><td>6.1      </td><td>2.6      </td><td>5.6      </td><td>1.4      </td><td>virginica</td></tr>\n",
       "\t<tr><th scope=row>136</th><td>7.7      </td><td>3.0      </td><td>6.1      </td><td>2.3      </td><td>virginica</td></tr>\n",
       "\t<tr><th scope=row>137</th><td>6.3      </td><td>3.4      </td><td>5.6      </td><td>2.4      </td><td>virginica</td></tr>\n",
       "\t<tr><th scope=row>138</th><td>6.4      </td><td>3.1      </td><td>5.5      </td><td>1.8      </td><td>virginica</td></tr>\n",
       "\t<tr><th scope=row>139</th><td>6.0      </td><td>3.0      </td><td>4.8      </td><td>1.8      </td><td>virginica</td></tr>\n",
       "\t<tr><th scope=row>140</th><td>6.9      </td><td>3.1      </td><td>5.4      </td><td>2.1      </td><td>virginica</td></tr>\n",
       "\t<tr><th scope=row>141</th><td>6.7      </td><td>3.1      </td><td>5.6      </td><td>2.4      </td><td>virginica</td></tr>\n",
       "\t<tr><th scope=row>142</th><td>6.9      </td><td>3.1      </td><td>5.1      </td><td>2.3      </td><td>virginica</td></tr>\n",
       "\t<tr><th scope=row>143</th><td>5.8      </td><td>2.7      </td><td>5.1      </td><td>1.9      </td><td>virginica</td></tr>\n",
       "\t<tr><th scope=row>144</th><td>6.8      </td><td>3.2      </td><td>5.9      </td><td>2.3      </td><td>virginica</td></tr>\n",
       "\t<tr><th scope=row>145</th><td>6.7      </td><td>3.3      </td><td>5.7      </td><td>2.5      </td><td>virginica</td></tr>\n",
       "\t<tr><th scope=row>146</th><td>6.7      </td><td>3.0      </td><td>5.2      </td><td>2.3      </td><td>virginica</td></tr>\n",
       "\t<tr><th scope=row>147</th><td>6.3      </td><td>2.5      </td><td>5.0      </td><td>1.9      </td><td>virginica</td></tr>\n",
       "\t<tr><th scope=row>148</th><td>6.5      </td><td>3.0      </td><td>5.2      </td><td>2.0      </td><td>virginica</td></tr>\n",
       "\t<tr><th scope=row>149</th><td>6.2      </td><td>3.4      </td><td>5.4      </td><td>2.3      </td><td>virginica</td></tr>\n",
       "\t<tr><th scope=row>150</th><td>5.9      </td><td>3.0      </td><td>5.1      </td><td>1.8      </td><td>virginica</td></tr>\n",
       "</tbody>\n",
       "</table>\n"
      ],
      "text/latex": [
       "\\begin{tabular}{r|lllll}\n",
       "  & Sepal.Length & Sepal.Width & Petal.Length & Petal.Width & Species\\\\\n",
       "\\hline\n",
       "\t101 & 6.3       & 3.3       & 6.0       & 2.5       & virginica\\\\\n",
       "\t102 & 5.8       & 2.7       & 5.1       & 1.9       & virginica\\\\\n",
       "\t103 & 7.1       & 3.0       & 5.9       & 2.1       & virginica\\\\\n",
       "\t104 & 6.3       & 2.9       & 5.6       & 1.8       & virginica\\\\\n",
       "\t105 & 6.5       & 3.0       & 5.8       & 2.2       & virginica\\\\\n",
       "\t106 & 7.6       & 3.0       & 6.6       & 2.1       & virginica\\\\\n",
       "\t107 & 4.9       & 2.5       & 4.5       & 1.7       & virginica\\\\\n",
       "\t108 & 7.3       & 2.9       & 6.3       & 1.8       & virginica\\\\\n",
       "\t109 & 6.7       & 2.5       & 5.8       & 1.8       & virginica\\\\\n",
       "\t110 & 7.2       & 3.6       & 6.1       & 2.5       & virginica\\\\\n",
       "\t111 & 6.5       & 3.2       & 5.1       & 2.0       & virginica\\\\\n",
       "\t112 & 6.4       & 2.7       & 5.3       & 1.9       & virginica\\\\\n",
       "\t113 & 6.8       & 3.0       & 5.5       & 2.1       & virginica\\\\\n",
       "\t114 & 5.7       & 2.5       & 5.0       & 2.0       & virginica\\\\\n",
       "\t115 & 5.8       & 2.8       & 5.1       & 2.4       & virginica\\\\\n",
       "\t116 & 6.4       & 3.2       & 5.3       & 2.3       & virginica\\\\\n",
       "\t117 & 6.5       & 3.0       & 5.5       & 1.8       & virginica\\\\\n",
       "\t118 & 7.7       & 3.8       & 6.7       & 2.2       & virginica\\\\\n",
       "\t119 & 7.7       & 2.6       & 6.9       & 2.3       & virginica\\\\\n",
       "\t120 & 6.0       & 2.2       & 5.0       & 1.5       & virginica\\\\\n",
       "\t121 & 6.9       & 3.2       & 5.7       & 2.3       & virginica\\\\\n",
       "\t122 & 5.6       & 2.8       & 4.9       & 2.0       & virginica\\\\\n",
       "\t123 & 7.7       & 2.8       & 6.7       & 2.0       & virginica\\\\\n",
       "\t124 & 6.3       & 2.7       & 4.9       & 1.8       & virginica\\\\\n",
       "\t125 & 6.7       & 3.3       & 5.7       & 2.1       & virginica\\\\\n",
       "\t126 & 7.2       & 3.2       & 6.0       & 1.8       & virginica\\\\\n",
       "\t127 & 6.2       & 2.8       & 4.8       & 1.8       & virginica\\\\\n",
       "\t128 & 6.1       & 3.0       & 4.9       & 1.8       & virginica\\\\\n",
       "\t129 & 6.4       & 2.8       & 5.6       & 2.1       & virginica\\\\\n",
       "\t130 & 7.2       & 3.0       & 5.8       & 1.6       & virginica\\\\\n",
       "\t131 & 7.4       & 2.8       & 6.1       & 1.9       & virginica\\\\\n",
       "\t132 & 7.9       & 3.8       & 6.4       & 2.0       & virginica\\\\\n",
       "\t133 & 6.4       & 2.8       & 5.6       & 2.2       & virginica\\\\\n",
       "\t134 & 6.3       & 2.8       & 5.1       & 1.5       & virginica\\\\\n",
       "\t135 & 6.1       & 2.6       & 5.6       & 1.4       & virginica\\\\\n",
       "\t136 & 7.7       & 3.0       & 6.1       & 2.3       & virginica\\\\\n",
       "\t137 & 6.3       & 3.4       & 5.6       & 2.4       & virginica\\\\\n",
       "\t138 & 6.4       & 3.1       & 5.5       & 1.8       & virginica\\\\\n",
       "\t139 & 6.0       & 3.0       & 4.8       & 1.8       & virginica\\\\\n",
       "\t140 & 6.9       & 3.1       & 5.4       & 2.1       & virginica\\\\\n",
       "\t141 & 6.7       & 3.1       & 5.6       & 2.4       & virginica\\\\\n",
       "\t142 & 6.9       & 3.1       & 5.1       & 2.3       & virginica\\\\\n",
       "\t143 & 5.8       & 2.7       & 5.1       & 1.9       & virginica\\\\\n",
       "\t144 & 6.8       & 3.2       & 5.9       & 2.3       & virginica\\\\\n",
       "\t145 & 6.7       & 3.3       & 5.7       & 2.5       & virginica\\\\\n",
       "\t146 & 6.7       & 3.0       & 5.2       & 2.3       & virginica\\\\\n",
       "\t147 & 6.3       & 2.5       & 5.0       & 1.9       & virginica\\\\\n",
       "\t148 & 6.5       & 3.0       & 5.2       & 2.0       & virginica\\\\\n",
       "\t149 & 6.2       & 3.4       & 5.4       & 2.3       & virginica\\\\\n",
       "\t150 & 5.9       & 3.0       & 5.1       & 1.8       & virginica\\\\\n",
       "\\end{tabular}\n"
      ],
      "text/markdown": [
       "\n",
       "| <!--/--> | Sepal.Length | Sepal.Width | Petal.Length | Petal.Width | Species | \n",
       "|---|---|---|---|---|---|---|---|---|---|---|---|---|---|---|---|---|---|---|---|---|---|---|---|---|---|---|---|---|---|---|---|---|---|---|---|---|---|---|---|---|---|---|---|---|---|---|---|---|---|\n",
       "| 101 | 6.3       | 3.3       | 6.0       | 2.5       | virginica | \n",
       "| 102 | 5.8       | 2.7       | 5.1       | 1.9       | virginica | \n",
       "| 103 | 7.1       | 3.0       | 5.9       | 2.1       | virginica | \n",
       "| 104 | 6.3       | 2.9       | 5.6       | 1.8       | virginica | \n",
       "| 105 | 6.5       | 3.0       | 5.8       | 2.2       | virginica | \n",
       "| 106 | 7.6       | 3.0       | 6.6       | 2.1       | virginica | \n",
       "| 107 | 4.9       | 2.5       | 4.5       | 1.7       | virginica | \n",
       "| 108 | 7.3       | 2.9       | 6.3       | 1.8       | virginica | \n",
       "| 109 | 6.7       | 2.5       | 5.8       | 1.8       | virginica | \n",
       "| 110 | 7.2       | 3.6       | 6.1       | 2.5       | virginica | \n",
       "| 111 | 6.5       | 3.2       | 5.1       | 2.0       | virginica | \n",
       "| 112 | 6.4       | 2.7       | 5.3       | 1.9       | virginica | \n",
       "| 113 | 6.8       | 3.0       | 5.5       | 2.1       | virginica | \n",
       "| 114 | 5.7       | 2.5       | 5.0       | 2.0       | virginica | \n",
       "| 115 | 5.8       | 2.8       | 5.1       | 2.4       | virginica | \n",
       "| 116 | 6.4       | 3.2       | 5.3       | 2.3       | virginica | \n",
       "| 117 | 6.5       | 3.0       | 5.5       | 1.8       | virginica | \n",
       "| 118 | 7.7       | 3.8       | 6.7       | 2.2       | virginica | \n",
       "| 119 | 7.7       | 2.6       | 6.9       | 2.3       | virginica | \n",
       "| 120 | 6.0       | 2.2       | 5.0       | 1.5       | virginica | \n",
       "| 121 | 6.9       | 3.2       | 5.7       | 2.3       | virginica | \n",
       "| 122 | 5.6       | 2.8       | 4.9       | 2.0       | virginica | \n",
       "| 123 | 7.7       | 2.8       | 6.7       | 2.0       | virginica | \n",
       "| 124 | 6.3       | 2.7       | 4.9       | 1.8       | virginica | \n",
       "| 125 | 6.7       | 3.3       | 5.7       | 2.1       | virginica | \n",
       "| 126 | 7.2       | 3.2       | 6.0       | 1.8       | virginica | \n",
       "| 127 | 6.2       | 2.8       | 4.8       | 1.8       | virginica | \n",
       "| 128 | 6.1       | 3.0       | 4.9       | 1.8       | virginica | \n",
       "| 129 | 6.4       | 2.8       | 5.6       | 2.1       | virginica | \n",
       "| 130 | 7.2       | 3.0       | 5.8       | 1.6       | virginica | \n",
       "| 131 | 7.4       | 2.8       | 6.1       | 1.9       | virginica | \n",
       "| 132 | 7.9       | 3.8       | 6.4       | 2.0       | virginica | \n",
       "| 133 | 6.4       | 2.8       | 5.6       | 2.2       | virginica | \n",
       "| 134 | 6.3       | 2.8       | 5.1       | 1.5       | virginica | \n",
       "| 135 | 6.1       | 2.6       | 5.6       | 1.4       | virginica | \n",
       "| 136 | 7.7       | 3.0       | 6.1       | 2.3       | virginica | \n",
       "| 137 | 6.3       | 3.4       | 5.6       | 2.4       | virginica | \n",
       "| 138 | 6.4       | 3.1       | 5.5       | 1.8       | virginica | \n",
       "| 139 | 6.0       | 3.0       | 4.8       | 1.8       | virginica | \n",
       "| 140 | 6.9       | 3.1       | 5.4       | 2.1       | virginica | \n",
       "| 141 | 6.7       | 3.1       | 5.6       | 2.4       | virginica | \n",
       "| 142 | 6.9       | 3.1       | 5.1       | 2.3       | virginica | \n",
       "| 143 | 5.8       | 2.7       | 5.1       | 1.9       | virginica | \n",
       "| 144 | 6.8       | 3.2       | 5.9       | 2.3       | virginica | \n",
       "| 145 | 6.7       | 3.3       | 5.7       | 2.5       | virginica | \n",
       "| 146 | 6.7       | 3.0       | 5.2       | 2.3       | virginica | \n",
       "| 147 | 6.3       | 2.5       | 5.0       | 1.9       | virginica | \n",
       "| 148 | 6.5       | 3.0       | 5.2       | 2.0       | virginica | \n",
       "| 149 | 6.2       | 3.4       | 5.4       | 2.3       | virginica | \n",
       "| 150 | 5.9       | 3.0       | 5.1       | 1.8       | virginica | \n",
       "\n",
       "\n"
      ],
      "text/plain": [
       "    Sepal.Length Sepal.Width Petal.Length Petal.Width Species  \n",
       "101 6.3          3.3         6.0          2.5         virginica\n",
       "102 5.8          2.7         5.1          1.9         virginica\n",
       "103 7.1          3.0         5.9          2.1         virginica\n",
       "104 6.3          2.9         5.6          1.8         virginica\n",
       "105 6.5          3.0         5.8          2.2         virginica\n",
       "106 7.6          3.0         6.6          2.1         virginica\n",
       "107 4.9          2.5         4.5          1.7         virginica\n",
       "108 7.3          2.9         6.3          1.8         virginica\n",
       "109 6.7          2.5         5.8          1.8         virginica\n",
       "110 7.2          3.6         6.1          2.5         virginica\n",
       "111 6.5          3.2         5.1          2.0         virginica\n",
       "112 6.4          2.7         5.3          1.9         virginica\n",
       "113 6.8          3.0         5.5          2.1         virginica\n",
       "114 5.7          2.5         5.0          2.0         virginica\n",
       "115 5.8          2.8         5.1          2.4         virginica\n",
       "116 6.4          3.2         5.3          2.3         virginica\n",
       "117 6.5          3.0         5.5          1.8         virginica\n",
       "118 7.7          3.8         6.7          2.2         virginica\n",
       "119 7.7          2.6         6.9          2.3         virginica\n",
       "120 6.0          2.2         5.0          1.5         virginica\n",
       "121 6.9          3.2         5.7          2.3         virginica\n",
       "122 5.6          2.8         4.9          2.0         virginica\n",
       "123 7.7          2.8         6.7          2.0         virginica\n",
       "124 6.3          2.7         4.9          1.8         virginica\n",
       "125 6.7          3.3         5.7          2.1         virginica\n",
       "126 7.2          3.2         6.0          1.8         virginica\n",
       "127 6.2          2.8         4.8          1.8         virginica\n",
       "128 6.1          3.0         4.9          1.8         virginica\n",
       "129 6.4          2.8         5.6          2.1         virginica\n",
       "130 7.2          3.0         5.8          1.6         virginica\n",
       "131 7.4          2.8         6.1          1.9         virginica\n",
       "132 7.9          3.8         6.4          2.0         virginica\n",
       "133 6.4          2.8         5.6          2.2         virginica\n",
       "134 6.3          2.8         5.1          1.5         virginica\n",
       "135 6.1          2.6         5.6          1.4         virginica\n",
       "136 7.7          3.0         6.1          2.3         virginica\n",
       "137 6.3          3.4         5.6          2.4         virginica\n",
       "138 6.4          3.1         5.5          1.8         virginica\n",
       "139 6.0          3.0         4.8          1.8         virginica\n",
       "140 6.9          3.1         5.4          2.1         virginica\n",
       "141 6.7          3.1         5.6          2.4         virginica\n",
       "142 6.9          3.1         5.1          2.3         virginica\n",
       "143 5.8          2.7         5.1          1.9         virginica\n",
       "144 6.8          3.2         5.9          2.3         virginica\n",
       "145 6.7          3.3         5.7          2.5         virginica\n",
       "146 6.7          3.0         5.2          2.3         virginica\n",
       "147 6.3          2.5         5.0          1.9         virginica\n",
       "148 6.5          3.0         5.2          2.0         virginica\n",
       "149 6.2          3.4         5.4          2.3         virginica\n",
       "150 5.9          3.0         5.1          1.8         virginica"
      ]
     },
     "metadata": {},
     "output_type": "display_data"
    }
   ],
   "source": [
    "# Row的篩選可使用subset()函數\n",
    "subset(iris,Species==\"virginica\") ##Species等於\"virginica\"的列Row，所有的行Column"
   ]
  },
  {
   "cell_type": "code",
   "execution_count": 26,
   "metadata": {},
   "outputs": [
    {
     "data": {
      "text/plain": [
       "\n",
       "\n",
       "|    | Sepal.Length| Sepal.Width| Petal.Length| Petal.Width|Species    |\n",
       "|:---|------------:|-----------:|------------:|-----------:|:----------|\n",
       "|51  |          7.0|         3.2|          4.7|         1.4|versicolor |\n",
       "|52  |          6.4|         3.2|          4.5|         1.5|versicolor |\n",
       "|53  |          6.9|         3.1|          4.9|         1.5|versicolor |\n",
       "|54  |          5.5|         2.3|          4.0|         1.3|versicolor |\n",
       "|55  |          6.5|         2.8|          4.6|         1.5|versicolor |\n",
       "|56  |          5.7|         2.8|          4.5|         1.3|versicolor |\n",
       "|57  |          6.3|         3.3|          4.7|         1.6|versicolor |\n",
       "|58  |          4.9|         2.4|          3.3|         1.0|versicolor |\n",
       "|59  |          6.6|         2.9|          4.6|         1.3|versicolor |\n",
       "|60  |          5.2|         2.7|          3.9|         1.4|versicolor |\n",
       "|61  |          5.0|         2.0|          3.5|         1.0|versicolor |\n",
       "|62  |          5.9|         3.0|          4.2|         1.5|versicolor |\n",
       "|63  |          6.0|         2.2|          4.0|         1.0|versicolor |\n",
       "|64  |          6.1|         2.9|          4.7|         1.4|versicolor |\n",
       "|65  |          5.6|         2.9|          3.6|         1.3|versicolor |\n",
       "|66  |          6.7|         3.1|          4.4|         1.4|versicolor |\n",
       "|67  |          5.6|         3.0|          4.5|         1.5|versicolor |\n",
       "|68  |          5.8|         2.7|          4.1|         1.0|versicolor |\n",
       "|69  |          6.2|         2.2|          4.5|         1.5|versicolor |\n",
       "|70  |          5.6|         2.5|          3.9|         1.1|versicolor |\n",
       "|71  |          5.9|         3.2|          4.8|         1.8|versicolor |\n",
       "|72  |          6.1|         2.8|          4.0|         1.3|versicolor |\n",
       "|73  |          6.3|         2.5|          4.9|         1.5|versicolor |\n",
       "|74  |          6.1|         2.8|          4.7|         1.2|versicolor |\n",
       "|75  |          6.4|         2.9|          4.3|         1.3|versicolor |\n",
       "|76  |          6.6|         3.0|          4.4|         1.4|versicolor |\n",
       "|77  |          6.8|         2.8|          4.8|         1.4|versicolor |\n",
       "|78  |          6.7|         3.0|          5.0|         1.7|versicolor |\n",
       "|79  |          6.0|         2.9|          4.5|         1.5|versicolor |\n",
       "|80  |          5.7|         2.6|          3.5|         1.0|versicolor |\n",
       "|81  |          5.5|         2.4|          3.8|         1.1|versicolor |\n",
       "|82  |          5.5|         2.4|          3.7|         1.0|versicolor |\n",
       "|83  |          5.8|         2.7|          3.9|         1.2|versicolor |\n",
       "|84  |          6.0|         2.7|          5.1|         1.6|versicolor |\n",
       "|85  |          5.4|         3.0|          4.5|         1.5|versicolor |\n",
       "|86  |          6.0|         3.4|          4.5|         1.6|versicolor |\n",
       "|87  |          6.7|         3.1|          4.7|         1.5|versicolor |\n",
       "|88  |          6.3|         2.3|          4.4|         1.3|versicolor |\n",
       "|89  |          5.6|         3.0|          4.1|         1.3|versicolor |\n",
       "|90  |          5.5|         2.5|          4.0|         1.3|versicolor |\n",
       "|91  |          5.5|         2.6|          4.4|         1.2|versicolor |\n",
       "|92  |          6.1|         3.0|          4.6|         1.4|versicolor |\n",
       "|93  |          5.8|         2.6|          4.0|         1.2|versicolor |\n",
       "|94  |          5.0|         2.3|          3.3|         1.0|versicolor |\n",
       "|95  |          5.6|         2.7|          4.2|         1.3|versicolor |\n",
       "|96  |          5.7|         3.0|          4.2|         1.2|versicolor |\n",
       "|97  |          5.7|         2.9|          4.2|         1.3|versicolor |\n",
       "|98  |          6.2|         2.9|          4.3|         1.3|versicolor |\n",
       "|99  |          5.1|         2.5|          3.0|         1.1|versicolor |\n",
       "|100 |          5.7|         2.8|          4.1|         1.3|versicolor |"
      ]
     },
     "metadata": {},
     "output_type": "display_data"
    }
   ],
   "source": [
    "#Row的篩選也可搭配字串搜尋函數grepl()\n",
    "\n",
    "knitr::kable(iris[grepl(\"color\",iris$Species),]) ##Species包含\"color\"的列，所有的行"
   ]
  },
  {
   "cell_type": "markdown",
   "metadata": {},
   "source": [
    "### 4-3.資料分割"
   ]
  },
  {
   "cell_type": "code",
   "execution_count": 27,
   "metadata": {},
   "outputs": [
    {
     "data": {
      "text/html": [
       "<table>\n",
       "<thead><tr><th></th><th scope=col>Sepal.Length</th><th scope=col>Species</th></tr></thead>\n",
       "<tbody>\n",
       "\t<tr><th scope=row>5</th><td>5         </td><td>setosa    </td></tr>\n",
       "\t<tr><th scope=row>8</th><td>5         </td><td>setosa    </td></tr>\n",
       "\t<tr><th scope=row>26</th><td>5         </td><td>setosa    </td></tr>\n",
       "\t<tr><th scope=row>27</th><td>5         </td><td>setosa    </td></tr>\n",
       "\t<tr><th scope=row>36</th><td>5         </td><td>setosa    </td></tr>\n",
       "\t<tr><th scope=row>41</th><td>5         </td><td>setosa    </td></tr>\n",
       "\t<tr><th scope=row>44</th><td>5         </td><td>setosa    </td></tr>\n",
       "\t<tr><th scope=row>50</th><td>5         </td><td>setosa    </td></tr>\n",
       "\t<tr><th scope=row>61</th><td>5         </td><td>versicolor</td></tr>\n",
       "\t<tr><th scope=row>94</th><td>5         </td><td>versicolor</td></tr>\n",
       "</tbody>\n",
       "</table>\n"
      ],
      "text/latex": [
       "\\begin{tabular}{r|ll}\n",
       "  & Sepal.Length & Species\\\\\n",
       "\\hline\n",
       "\t5 & 5          & setosa    \\\\\n",
       "\t8 & 5          & setosa    \\\\\n",
       "\t26 & 5          & setosa    \\\\\n",
       "\t27 & 5          & setosa    \\\\\n",
       "\t36 & 5          & setosa    \\\\\n",
       "\t41 & 5          & setosa    \\\\\n",
       "\t44 & 5          & setosa    \\\\\n",
       "\t50 & 5          & setosa    \\\\\n",
       "\t61 & 5          & versicolor\\\\\n",
       "\t94 & 5          & versicolor\\\\\n",
       "\\end{tabular}\n"
      ],
      "text/markdown": [
       "\n",
       "| <!--/--> | Sepal.Length | Species | \n",
       "|---|---|---|---|---|---|---|---|---|---|\n",
       "| 5 | 5          | setosa     | \n",
       "| 8 | 5          | setosa     | \n",
       "| 26 | 5          | setosa     | \n",
       "| 27 | 5          | setosa     | \n",
       "| 36 | 5          | setosa     | \n",
       "| 41 | 5          | setosa     | \n",
       "| 44 | 5          | setosa     | \n",
       "| 50 | 5          | setosa     | \n",
       "| 61 | 5          | versicolor | \n",
       "| 94 | 5          | versicolor | \n",
       "\n",
       "\n"
      ],
      "text/plain": [
       "   Sepal.Length Species   \n",
       "5  5            setosa    \n",
       "8  5            setosa    \n",
       "26 5            setosa    \n",
       "27 5            setosa    \n",
       "36 5            setosa    \n",
       "41 5            setosa    \n",
       "44 5            setosa    \n",
       "50 5            setosa    \n",
       "61 5            versicolor\n",
       "94 5            versicolor"
      ]
     },
     "metadata": {},
     "output_type": "display_data"
    }
   ],
   "source": [
    "subset(iris, Sepal.Length == 5,select = c(\"Sepal.Length\",\"Species\")) # 只會出現 Sepal.Length 等於 5 的資料，且欄位只會出現 Sepal.Length 和 Species"
   ]
  },
  {
   "cell_type": "markdown",
   "metadata": {},
   "source": [
    "### 4-4.排序: 使用order()函數\n",
    "\n",
    "### [由小排到大]"
   ]
  },
  {
   "cell_type": "code",
   "execution_count": 28,
   "metadata": {},
   "outputs": [
    {
     "data": {
      "text/html": [
       "<ol class=list-inline>\n",
       "\t<li>14</li>\n",
       "\t<li>9</li>\n",
       "\t<li>39</li>\n",
       "\t<li>43</li>\n",
       "\t<li>42</li>\n",
       "\t<li>4</li>\n",
       "\t<li>7</li>\n",
       "\t<li>23</li>\n",
       "\t<li>48</li>\n",
       "\t<li>3</li>\n",
       "\t<li>30</li>\n",
       "\t<li>12</li>\n",
       "\t<li>13</li>\n",
       "\t<li>25</li>\n",
       "\t<li>31</li>\n",
       "\t<li>46</li>\n",
       "\t<li>2</li>\n",
       "\t<li>10</li>\n",
       "\t<li>35</li>\n",
       "\t<li>38</li>\n",
       "\t<li>58</li>\n",
       "\t<li>107</li>\n",
       "\t<li>5</li>\n",
       "\t<li>8</li>\n",
       "\t<li>26</li>\n",
       "\t<li>27</li>\n",
       "\t<li>36</li>\n",
       "\t<li>41</li>\n",
       "\t<li>44</li>\n",
       "\t<li>50</li>\n",
       "\t<li>61</li>\n",
       "\t<li>94</li>\n",
       "\t<li>1</li>\n",
       "\t<li>18</li>\n",
       "\t<li>20</li>\n",
       "\t<li>22</li>\n",
       "\t<li>24</li>\n",
       "\t<li>40</li>\n",
       "\t<li>45</li>\n",
       "\t<li>47</li>\n",
       "\t<li>99</li>\n",
       "\t<li>28</li>\n",
       "\t<li>29</li>\n",
       "\t<li>33</li>\n",
       "\t<li>60</li>\n",
       "\t<li>49</li>\n",
       "\t<li>6</li>\n",
       "\t<li>11</li>\n",
       "\t<li>17</li>\n",
       "\t<li>21</li>\n",
       "\t<li>32</li>\n",
       "\t<li>85</li>\n",
       "\t<li>34</li>\n",
       "\t<li>37</li>\n",
       "\t<li>54</li>\n",
       "\t<li>81</li>\n",
       "\t<li>82</li>\n",
       "\t<li>90</li>\n",
       "\t<li>91</li>\n",
       "\t<li>65</li>\n",
       "\t<li>67</li>\n",
       "\t<li>70</li>\n",
       "\t<li>89</li>\n",
       "\t<li>95</li>\n",
       "\t<li>122</li>\n",
       "\t<li>16</li>\n",
       "\t<li>19</li>\n",
       "\t<li>56</li>\n",
       "\t<li>80</li>\n",
       "\t<li>96</li>\n",
       "\t<li>97</li>\n",
       "\t<li>100</li>\n",
       "\t<li>114</li>\n",
       "\t<li>15</li>\n",
       "\t<li>68</li>\n",
       "\t<li>83</li>\n",
       "\t<li>93</li>\n",
       "\t<li>102</li>\n",
       "\t<li>115</li>\n",
       "\t<li>143</li>\n",
       "\t<li>62</li>\n",
       "\t<li>71</li>\n",
       "\t<li>150</li>\n",
       "\t<li>63</li>\n",
       "\t<li>79</li>\n",
       "\t<li>84</li>\n",
       "\t<li>86</li>\n",
       "\t<li>120</li>\n",
       "\t<li>139</li>\n",
       "\t<li>64</li>\n",
       "\t<li>72</li>\n",
       "\t<li>74</li>\n",
       "\t<li>92</li>\n",
       "\t<li>128</li>\n",
       "\t<li>135</li>\n",
       "\t<li>69</li>\n",
       "\t<li>98</li>\n",
       "\t<li>127</li>\n",
       "\t<li>149</li>\n",
       "\t<li>57</li>\n",
       "\t<li>73</li>\n",
       "\t<li>88</li>\n",
       "\t<li>101</li>\n",
       "\t<li>104</li>\n",
       "\t<li>124</li>\n",
       "\t<li>134</li>\n",
       "\t<li>137</li>\n",
       "\t<li>147</li>\n",
       "\t<li>52</li>\n",
       "\t<li>75</li>\n",
       "\t<li>112</li>\n",
       "\t<li>116</li>\n",
       "\t<li>129</li>\n",
       "\t<li>133</li>\n",
       "\t<li>138</li>\n",
       "\t<li>55</li>\n",
       "\t<li>105</li>\n",
       "\t<li>111</li>\n",
       "\t<li>117</li>\n",
       "\t<li>148</li>\n",
       "\t<li>59</li>\n",
       "\t<li>76</li>\n",
       "\t<li>66</li>\n",
       "\t<li>78</li>\n",
       "\t<li>87</li>\n",
       "\t<li>109</li>\n",
       "\t<li>125</li>\n",
       "\t<li>141</li>\n",
       "\t<li>145</li>\n",
       "\t<li>146</li>\n",
       "\t<li>77</li>\n",
       "\t<li>113</li>\n",
       "\t<li>144</li>\n",
       "\t<li>53</li>\n",
       "\t<li>121</li>\n",
       "\t<li>140</li>\n",
       "\t<li>142</li>\n",
       "\t<li>51</li>\n",
       "\t<li>103</li>\n",
       "\t<li>110</li>\n",
       "\t<li>126</li>\n",
       "\t<li>130</li>\n",
       "\t<li>108</li>\n",
       "\t<li>131</li>\n",
       "\t<li>106</li>\n",
       "\t<li>118</li>\n",
       "\t<li>119</li>\n",
       "\t<li>123</li>\n",
       "\t<li>136</li>\n",
       "\t<li>132</li>\n",
       "</ol>\n"
      ],
      "text/latex": [
       "\\begin{enumerate*}\n",
       "\\item 14\n",
       "\\item 9\n",
       "\\item 39\n",
       "\\item 43\n",
       "\\item 42\n",
       "\\item 4\n",
       "\\item 7\n",
       "\\item 23\n",
       "\\item 48\n",
       "\\item 3\n",
       "\\item 30\n",
       "\\item 12\n",
       "\\item 13\n",
       "\\item 25\n",
       "\\item 31\n",
       "\\item 46\n",
       "\\item 2\n",
       "\\item 10\n",
       "\\item 35\n",
       "\\item 38\n",
       "\\item 58\n",
       "\\item 107\n",
       "\\item 5\n",
       "\\item 8\n",
       "\\item 26\n",
       "\\item 27\n",
       "\\item 36\n",
       "\\item 41\n",
       "\\item 44\n",
       "\\item 50\n",
       "\\item 61\n",
       "\\item 94\n",
       "\\item 1\n",
       "\\item 18\n",
       "\\item 20\n",
       "\\item 22\n",
       "\\item 24\n",
       "\\item 40\n",
       "\\item 45\n",
       "\\item 47\n",
       "\\item 99\n",
       "\\item 28\n",
       "\\item 29\n",
       "\\item 33\n",
       "\\item 60\n",
       "\\item 49\n",
       "\\item 6\n",
       "\\item 11\n",
       "\\item 17\n",
       "\\item 21\n",
       "\\item 32\n",
       "\\item 85\n",
       "\\item 34\n",
       "\\item 37\n",
       "\\item 54\n",
       "\\item 81\n",
       "\\item 82\n",
       "\\item 90\n",
       "\\item 91\n",
       "\\item 65\n",
       "\\item 67\n",
       "\\item 70\n",
       "\\item 89\n",
       "\\item 95\n",
       "\\item 122\n",
       "\\item 16\n",
       "\\item 19\n",
       "\\item 56\n",
       "\\item 80\n",
       "\\item 96\n",
       "\\item 97\n",
       "\\item 100\n",
       "\\item 114\n",
       "\\item 15\n",
       "\\item 68\n",
       "\\item 83\n",
       "\\item 93\n",
       "\\item 102\n",
       "\\item 115\n",
       "\\item 143\n",
       "\\item 62\n",
       "\\item 71\n",
       "\\item 150\n",
       "\\item 63\n",
       "\\item 79\n",
       "\\item 84\n",
       "\\item 86\n",
       "\\item 120\n",
       "\\item 139\n",
       "\\item 64\n",
       "\\item 72\n",
       "\\item 74\n",
       "\\item 92\n",
       "\\item 128\n",
       "\\item 135\n",
       "\\item 69\n",
       "\\item 98\n",
       "\\item 127\n",
       "\\item 149\n",
       "\\item 57\n",
       "\\item 73\n",
       "\\item 88\n",
       "\\item 101\n",
       "\\item 104\n",
       "\\item 124\n",
       "\\item 134\n",
       "\\item 137\n",
       "\\item 147\n",
       "\\item 52\n",
       "\\item 75\n",
       "\\item 112\n",
       "\\item 116\n",
       "\\item 129\n",
       "\\item 133\n",
       "\\item 138\n",
       "\\item 55\n",
       "\\item 105\n",
       "\\item 111\n",
       "\\item 117\n",
       "\\item 148\n",
       "\\item 59\n",
       "\\item 76\n",
       "\\item 66\n",
       "\\item 78\n",
       "\\item 87\n",
       "\\item 109\n",
       "\\item 125\n",
       "\\item 141\n",
       "\\item 145\n",
       "\\item 146\n",
       "\\item 77\n",
       "\\item 113\n",
       "\\item 144\n",
       "\\item 53\n",
       "\\item 121\n",
       "\\item 140\n",
       "\\item 142\n",
       "\\item 51\n",
       "\\item 103\n",
       "\\item 110\n",
       "\\item 126\n",
       "\\item 130\n",
       "\\item 108\n",
       "\\item 131\n",
       "\\item 106\n",
       "\\item 118\n",
       "\\item 119\n",
       "\\item 123\n",
       "\\item 136\n",
       "\\item 132\n",
       "\\end{enumerate*}\n"
      ],
      "text/markdown": [
       "1. 14\n",
       "2. 9\n",
       "3. 39\n",
       "4. 43\n",
       "5. 42\n",
       "6. 4\n",
       "7. 7\n",
       "8. 23\n",
       "9. 48\n",
       "10. 3\n",
       "11. 30\n",
       "12. 12\n",
       "13. 13\n",
       "14. 25\n",
       "15. 31\n",
       "16. 46\n",
       "17. 2\n",
       "18. 10\n",
       "19. 35\n",
       "20. 38\n",
       "21. 58\n",
       "22. 107\n",
       "23. 5\n",
       "24. 8\n",
       "25. 26\n",
       "26. 27\n",
       "27. 36\n",
       "28. 41\n",
       "29. 44\n",
       "30. 50\n",
       "31. 61\n",
       "32. 94\n",
       "33. 1\n",
       "34. 18\n",
       "35. 20\n",
       "36. 22\n",
       "37. 24\n",
       "38. 40\n",
       "39. 45\n",
       "40. 47\n",
       "41. 99\n",
       "42. 28\n",
       "43. 29\n",
       "44. 33\n",
       "45. 60\n",
       "46. 49\n",
       "47. 6\n",
       "48. 11\n",
       "49. 17\n",
       "50. 21\n",
       "51. 32\n",
       "52. 85\n",
       "53. 34\n",
       "54. 37\n",
       "55. 54\n",
       "56. 81\n",
       "57. 82\n",
       "58. 90\n",
       "59. 91\n",
       "60. 65\n",
       "61. 67\n",
       "62. 70\n",
       "63. 89\n",
       "64. 95\n",
       "65. 122\n",
       "66. 16\n",
       "67. 19\n",
       "68. 56\n",
       "69. 80\n",
       "70. 96\n",
       "71. 97\n",
       "72. 100\n",
       "73. 114\n",
       "74. 15\n",
       "75. 68\n",
       "76. 83\n",
       "77. 93\n",
       "78. 102\n",
       "79. 115\n",
       "80. 143\n",
       "81. 62\n",
       "82. 71\n",
       "83. 150\n",
       "84. 63\n",
       "85. 79\n",
       "86. 84\n",
       "87. 86\n",
       "88. 120\n",
       "89. 139\n",
       "90. 64\n",
       "91. 72\n",
       "92. 74\n",
       "93. 92\n",
       "94. 128\n",
       "95. 135\n",
       "96. 69\n",
       "97. 98\n",
       "98. 127\n",
       "99. 149\n",
       "100. 57\n",
       "101. 73\n",
       "102. 88\n",
       "103. 101\n",
       "104. 104\n",
       "105. 124\n",
       "106. 134\n",
       "107. 137\n",
       "108. 147\n",
       "109. 52\n",
       "110. 75\n",
       "111. 112\n",
       "112. 116\n",
       "113. 129\n",
       "114. 133\n",
       "115. 138\n",
       "116. 55\n",
       "117. 105\n",
       "118. 111\n",
       "119. 117\n",
       "120. 148\n",
       "121. 59\n",
       "122. 76\n",
       "123. 66\n",
       "124. 78\n",
       "125. 87\n",
       "126. 109\n",
       "127. 125\n",
       "128. 141\n",
       "129. 145\n",
       "130. 146\n",
       "131. 77\n",
       "132. 113\n",
       "133. 144\n",
       "134. 53\n",
       "135. 121\n",
       "136. 140\n",
       "137. 142\n",
       "138. 51\n",
       "139. 103\n",
       "140. 110\n",
       "141. 126\n",
       "142. 130\n",
       "143. 108\n",
       "144. 131\n",
       "145. 106\n",
       "146. 118\n",
       "147. 119\n",
       "148. 123\n",
       "149. 136\n",
       "150. 132\n",
       "\n",
       "\n"
      ],
      "text/plain": [
       "  [1]  14   9  39  43  42   4   7  23  48   3  30  12  13  25  31  46   2  10\n",
       " [19]  35  38  58 107   5   8  26  27  36  41  44  50  61  94   1  18  20  22\n",
       " [37]  24  40  45  47  99  28  29  33  60  49   6  11  17  21  32  85  34  37\n",
       " [55]  54  81  82  90  91  65  67  70  89  95 122  16  19  56  80  96  97 100\n",
       " [73] 114  15  68  83  93 102 115 143  62  71 150  63  79  84  86 120 139  64\n",
       " [91]  72  74  92 128 135  69  98 127 149  57  73  88 101 104 124 134 137 147\n",
       "[109]  52  75 112 116 129 133 138  55 105 111 117 148  59  76  66  78  87 109\n",
       "[127] 125 141 145 146  77 113 144  53 121 140 142  51 103 110 126 130 108 131\n",
       "[145] 106 118 119 123 136 132"
      ]
     },
     "metadata": {},
     "output_type": "display_data"
    }
   ],
   "source": [
    "order(iris$Sepal.Length)\n",
    "#回傳的第一個位置為14，表示iris$Sepal.Length中，數值最小的元素為第14個元素。"
   ]
  },
  {
   "cell_type": "code",
   "execution_count": 29,
   "metadata": {},
   "outputs": [
    {
     "data": {
      "text/html": [
       "4.3"
      ],
      "text/latex": [
       "4.3"
      ],
      "text/markdown": [
       "4.3"
      ],
      "text/plain": [
       "[1] 4.3"
      ]
     },
     "metadata": {},
     "output_type": "display_data"
    }
   ],
   "source": [
    "iris$Sepal.Length[14] #第14筆的數值是多少"
   ]
  },
  {
   "cell_type": "code",
   "execution_count": 30,
   "metadata": {},
   "outputs": [
    {
     "data": {
      "text/html": [
       "<table>\n",
       "<thead><tr><th></th><th scope=col>Sepal.Length</th><th scope=col>Sepal.Width</th><th scope=col>Petal.Length</th><th scope=col>Petal.Width</th><th scope=col>Species</th></tr></thead>\n",
       "<tbody>\n",
       "\t<tr><th scope=row>14</th><td>4.3   </td><td>3.0   </td><td>1.1   </td><td>0.1   </td><td>setosa</td></tr>\n",
       "\t<tr><th scope=row>9</th><td>4.4   </td><td>2.9   </td><td>1.4   </td><td>0.2   </td><td>setosa</td></tr>\n",
       "\t<tr><th scope=row>39</th><td>4.4   </td><td>3.0   </td><td>1.3   </td><td>0.2   </td><td>setosa</td></tr>\n",
       "\t<tr><th scope=row>43</th><td>4.4   </td><td>3.2   </td><td>1.3   </td><td>0.2   </td><td>setosa</td></tr>\n",
       "\t<tr><th scope=row>42</th><td>4.5   </td><td>2.3   </td><td>1.3   </td><td>0.3   </td><td>setosa</td></tr>\n",
       "\t<tr><th scope=row>4</th><td>4.6   </td><td>3.1   </td><td>1.5   </td><td>0.2   </td><td>setosa</td></tr>\n",
       "</tbody>\n",
       "</table>\n"
      ],
      "text/latex": [
       "\\begin{tabular}{r|lllll}\n",
       "  & Sepal.Length & Sepal.Width & Petal.Length & Petal.Width & Species\\\\\n",
       "\\hline\n",
       "\t14 & 4.3    & 3.0    & 1.1    & 0.1    & setosa\\\\\n",
       "\t9 & 4.4    & 2.9    & 1.4    & 0.2    & setosa\\\\\n",
       "\t39 & 4.4    & 3.0    & 1.3    & 0.2    & setosa\\\\\n",
       "\t43 & 4.4    & 3.2    & 1.3    & 0.2    & setosa\\\\\n",
       "\t42 & 4.5    & 2.3    & 1.3    & 0.3    & setosa\\\\\n",
       "\t4 & 4.6    & 3.1    & 1.5    & 0.2    & setosa\\\\\n",
       "\\end{tabular}\n"
      ],
      "text/markdown": [
       "\n",
       "| <!--/--> | Sepal.Length | Sepal.Width | Petal.Length | Petal.Width | Species | \n",
       "|---|---|---|---|---|---|\n",
       "| 14 | 4.3    | 3.0    | 1.1    | 0.1    | setosa | \n",
       "| 9 | 4.4    | 2.9    | 1.4    | 0.2    | setosa | \n",
       "| 39 | 4.4    | 3.0    | 1.3    | 0.2    | setosa | \n",
       "| 43 | 4.4    | 3.2    | 1.3    | 0.2    | setosa | \n",
       "| 42 | 4.5    | 2.3    | 1.3    | 0.3    | setosa | \n",
       "| 4 | 4.6    | 3.1    | 1.5    | 0.2    | setosa | \n",
       "\n",
       "\n"
      ],
      "text/plain": [
       "   Sepal.Length Sepal.Width Petal.Length Petal.Width Species\n",
       "14 4.3          3.0         1.1          0.1         setosa \n",
       "9  4.4          2.9         1.4          0.2         setosa \n",
       "39 4.4          3.0         1.3          0.2         setosa \n",
       "43 4.4          3.2         1.3          0.2         setosa \n",
       "42 4.5          2.3         1.3          0.3         setosa \n",
       "4  4.6          3.1         1.5          0.2         setosa "
      ]
     },
     "metadata": {},
     "output_type": "display_data"
    }
   ],
   "source": [
    "head(iris[order(iris$Sepal.Length),]) ##依照Sepal.Length欄位數值大小排序後的前六筆資料"
   ]
  },
  {
   "cell_type": "markdown",
   "metadata": {},
   "source": [
    "### [由大排到小]\n",
    "\n",
    "- 若將decreasing參數設定為TRUE，則會回傳由大到小的元素位置，\n",
    "- 以iris$Sepal.Length為例，回傳的第一個位置為132"
   ]
  },
  {
   "cell_type": "code",
   "execution_count": 31,
   "metadata": {},
   "outputs": [
    {
     "data": {
      "text/html": [
       "<ol class=list-inline>\n",
       "\t<li>132</li>\n",
       "\t<li>118</li>\n",
       "\t<li>119</li>\n",
       "\t<li>123</li>\n",
       "\t<li>136</li>\n",
       "\t<li>106</li>\n",
       "\t<li>131</li>\n",
       "\t<li>108</li>\n",
       "\t<li>110</li>\n",
       "\t<li>126</li>\n",
       "\t<li>130</li>\n",
       "\t<li>103</li>\n",
       "\t<li>51</li>\n",
       "\t<li>53</li>\n",
       "\t<li>121</li>\n",
       "\t<li>140</li>\n",
       "\t<li>142</li>\n",
       "\t<li>77</li>\n",
       "\t<li>113</li>\n",
       "\t<li>144</li>\n",
       "\t<li>66</li>\n",
       "\t<li>78</li>\n",
       "\t<li>87</li>\n",
       "\t<li>109</li>\n",
       "\t<li>125</li>\n",
       "\t<li>141</li>\n",
       "\t<li>145</li>\n",
       "\t<li>146</li>\n",
       "\t<li>59</li>\n",
       "\t<li>76</li>\n",
       "\t<li>55</li>\n",
       "\t<li>105</li>\n",
       "\t<li>111</li>\n",
       "\t<li>117</li>\n",
       "\t<li>148</li>\n",
       "\t<li>52</li>\n",
       "\t<li>75</li>\n",
       "\t<li>112</li>\n",
       "\t<li>116</li>\n",
       "\t<li>129</li>\n",
       "\t<li>133</li>\n",
       "\t<li>138</li>\n",
       "\t<li>57</li>\n",
       "\t<li>73</li>\n",
       "\t<li>88</li>\n",
       "\t<li>101</li>\n",
       "\t<li>104</li>\n",
       "\t<li>124</li>\n",
       "\t<li>134</li>\n",
       "\t<li>137</li>\n",
       "\t<li>147</li>\n",
       "\t<li>69</li>\n",
       "\t<li>98</li>\n",
       "\t<li>127</li>\n",
       "\t<li>149</li>\n",
       "\t<li>64</li>\n",
       "\t<li>72</li>\n",
       "\t<li>74</li>\n",
       "\t<li>92</li>\n",
       "\t<li>128</li>\n",
       "\t<li>135</li>\n",
       "\t<li>63</li>\n",
       "\t<li>79</li>\n",
       "\t<li>84</li>\n",
       "\t<li>86</li>\n",
       "\t<li>120</li>\n",
       "\t<li>139</li>\n",
       "\t<li>62</li>\n",
       "\t<li>71</li>\n",
       "\t<li>150</li>\n",
       "\t<li>15</li>\n",
       "\t<li>68</li>\n",
       "\t<li>83</li>\n",
       "\t<li>93</li>\n",
       "\t<li>102</li>\n",
       "\t<li>115</li>\n",
       "\t<li>143</li>\n",
       "\t<li>16</li>\n",
       "\t<li>19</li>\n",
       "\t<li>56</li>\n",
       "\t<li>80</li>\n",
       "\t<li>96</li>\n",
       "\t<li>97</li>\n",
       "\t<li>100</li>\n",
       "\t<li>114</li>\n",
       "\t<li>65</li>\n",
       "\t<li>67</li>\n",
       "\t<li>70</li>\n",
       "\t<li>89</li>\n",
       "\t<li>95</li>\n",
       "\t<li>122</li>\n",
       "\t<li>34</li>\n",
       "\t<li>37</li>\n",
       "\t<li>54</li>\n",
       "\t<li>81</li>\n",
       "\t<li>82</li>\n",
       "\t<li>90</li>\n",
       "\t<li>91</li>\n",
       "\t<li>6</li>\n",
       "\t<li>11</li>\n",
       "\t<li>17</li>\n",
       "\t<li>21</li>\n",
       "\t<li>32</li>\n",
       "\t<li>85</li>\n",
       "\t<li>49</li>\n",
       "\t<li>28</li>\n",
       "\t<li>29</li>\n",
       "\t<li>33</li>\n",
       "\t<li>60</li>\n",
       "\t<li>1</li>\n",
       "\t<li>18</li>\n",
       "\t<li>20</li>\n",
       "\t<li>22</li>\n",
       "\t<li>24</li>\n",
       "\t<li>40</li>\n",
       "\t<li>45</li>\n",
       "\t<li>47</li>\n",
       "\t<li>99</li>\n",
       "\t<li>5</li>\n",
       "\t<li>8</li>\n",
       "\t<li>26</li>\n",
       "\t<li>27</li>\n",
       "\t<li>36</li>\n",
       "\t<li>41</li>\n",
       "\t<li>44</li>\n",
       "\t<li>50</li>\n",
       "\t<li>61</li>\n",
       "\t<li>94</li>\n",
       "\t<li>2</li>\n",
       "\t<li>10</li>\n",
       "\t<li>35</li>\n",
       "\t<li>38</li>\n",
       "\t<li>58</li>\n",
       "\t<li>107</li>\n",
       "\t<li>12</li>\n",
       "\t<li>13</li>\n",
       "\t<li>25</li>\n",
       "\t<li>31</li>\n",
       "\t<li>46</li>\n",
       "\t<li>3</li>\n",
       "\t<li>30</li>\n",
       "\t<li>4</li>\n",
       "\t<li>7</li>\n",
       "\t<li>23</li>\n",
       "\t<li>48</li>\n",
       "\t<li>42</li>\n",
       "\t<li>9</li>\n",
       "\t<li>39</li>\n",
       "\t<li>43</li>\n",
       "\t<li>14</li>\n",
       "</ol>\n"
      ],
      "text/latex": [
       "\\begin{enumerate*}\n",
       "\\item 132\n",
       "\\item 118\n",
       "\\item 119\n",
       "\\item 123\n",
       "\\item 136\n",
       "\\item 106\n",
       "\\item 131\n",
       "\\item 108\n",
       "\\item 110\n",
       "\\item 126\n",
       "\\item 130\n",
       "\\item 103\n",
       "\\item 51\n",
       "\\item 53\n",
       "\\item 121\n",
       "\\item 140\n",
       "\\item 142\n",
       "\\item 77\n",
       "\\item 113\n",
       "\\item 144\n",
       "\\item 66\n",
       "\\item 78\n",
       "\\item 87\n",
       "\\item 109\n",
       "\\item 125\n",
       "\\item 141\n",
       "\\item 145\n",
       "\\item 146\n",
       "\\item 59\n",
       "\\item 76\n",
       "\\item 55\n",
       "\\item 105\n",
       "\\item 111\n",
       "\\item 117\n",
       "\\item 148\n",
       "\\item 52\n",
       "\\item 75\n",
       "\\item 112\n",
       "\\item 116\n",
       "\\item 129\n",
       "\\item 133\n",
       "\\item 138\n",
       "\\item 57\n",
       "\\item 73\n",
       "\\item 88\n",
       "\\item 101\n",
       "\\item 104\n",
       "\\item 124\n",
       "\\item 134\n",
       "\\item 137\n",
       "\\item 147\n",
       "\\item 69\n",
       "\\item 98\n",
       "\\item 127\n",
       "\\item 149\n",
       "\\item 64\n",
       "\\item 72\n",
       "\\item 74\n",
       "\\item 92\n",
       "\\item 128\n",
       "\\item 135\n",
       "\\item 63\n",
       "\\item 79\n",
       "\\item 84\n",
       "\\item 86\n",
       "\\item 120\n",
       "\\item 139\n",
       "\\item 62\n",
       "\\item 71\n",
       "\\item 150\n",
       "\\item 15\n",
       "\\item 68\n",
       "\\item 83\n",
       "\\item 93\n",
       "\\item 102\n",
       "\\item 115\n",
       "\\item 143\n",
       "\\item 16\n",
       "\\item 19\n",
       "\\item 56\n",
       "\\item 80\n",
       "\\item 96\n",
       "\\item 97\n",
       "\\item 100\n",
       "\\item 114\n",
       "\\item 65\n",
       "\\item 67\n",
       "\\item 70\n",
       "\\item 89\n",
       "\\item 95\n",
       "\\item 122\n",
       "\\item 34\n",
       "\\item 37\n",
       "\\item 54\n",
       "\\item 81\n",
       "\\item 82\n",
       "\\item 90\n",
       "\\item 91\n",
       "\\item 6\n",
       "\\item 11\n",
       "\\item 17\n",
       "\\item 21\n",
       "\\item 32\n",
       "\\item 85\n",
       "\\item 49\n",
       "\\item 28\n",
       "\\item 29\n",
       "\\item 33\n",
       "\\item 60\n",
       "\\item 1\n",
       "\\item 18\n",
       "\\item 20\n",
       "\\item 22\n",
       "\\item 24\n",
       "\\item 40\n",
       "\\item 45\n",
       "\\item 47\n",
       "\\item 99\n",
       "\\item 5\n",
       "\\item 8\n",
       "\\item 26\n",
       "\\item 27\n",
       "\\item 36\n",
       "\\item 41\n",
       "\\item 44\n",
       "\\item 50\n",
       "\\item 61\n",
       "\\item 94\n",
       "\\item 2\n",
       "\\item 10\n",
       "\\item 35\n",
       "\\item 38\n",
       "\\item 58\n",
       "\\item 107\n",
       "\\item 12\n",
       "\\item 13\n",
       "\\item 25\n",
       "\\item 31\n",
       "\\item 46\n",
       "\\item 3\n",
       "\\item 30\n",
       "\\item 4\n",
       "\\item 7\n",
       "\\item 23\n",
       "\\item 48\n",
       "\\item 42\n",
       "\\item 9\n",
       "\\item 39\n",
       "\\item 43\n",
       "\\item 14\n",
       "\\end{enumerate*}\n"
      ],
      "text/markdown": [
       "1. 132\n",
       "2. 118\n",
       "3. 119\n",
       "4. 123\n",
       "5. 136\n",
       "6. 106\n",
       "7. 131\n",
       "8. 108\n",
       "9. 110\n",
       "10. 126\n",
       "11. 130\n",
       "12. 103\n",
       "13. 51\n",
       "14. 53\n",
       "15. 121\n",
       "16. 140\n",
       "17. 142\n",
       "18. 77\n",
       "19. 113\n",
       "20. 144\n",
       "21. 66\n",
       "22. 78\n",
       "23. 87\n",
       "24. 109\n",
       "25. 125\n",
       "26. 141\n",
       "27. 145\n",
       "28. 146\n",
       "29. 59\n",
       "30. 76\n",
       "31. 55\n",
       "32. 105\n",
       "33. 111\n",
       "34. 117\n",
       "35. 148\n",
       "36. 52\n",
       "37. 75\n",
       "38. 112\n",
       "39. 116\n",
       "40. 129\n",
       "41. 133\n",
       "42. 138\n",
       "43. 57\n",
       "44. 73\n",
       "45. 88\n",
       "46. 101\n",
       "47. 104\n",
       "48. 124\n",
       "49. 134\n",
       "50. 137\n",
       "51. 147\n",
       "52. 69\n",
       "53. 98\n",
       "54. 127\n",
       "55. 149\n",
       "56. 64\n",
       "57. 72\n",
       "58. 74\n",
       "59. 92\n",
       "60. 128\n",
       "61. 135\n",
       "62. 63\n",
       "63. 79\n",
       "64. 84\n",
       "65. 86\n",
       "66. 120\n",
       "67. 139\n",
       "68. 62\n",
       "69. 71\n",
       "70. 150\n",
       "71. 15\n",
       "72. 68\n",
       "73. 83\n",
       "74. 93\n",
       "75. 102\n",
       "76. 115\n",
       "77. 143\n",
       "78. 16\n",
       "79. 19\n",
       "80. 56\n",
       "81. 80\n",
       "82. 96\n",
       "83. 97\n",
       "84. 100\n",
       "85. 114\n",
       "86. 65\n",
       "87. 67\n",
       "88. 70\n",
       "89. 89\n",
       "90. 95\n",
       "91. 122\n",
       "92. 34\n",
       "93. 37\n",
       "94. 54\n",
       "95. 81\n",
       "96. 82\n",
       "97. 90\n",
       "98. 91\n",
       "99. 6\n",
       "100. 11\n",
       "101. 17\n",
       "102. 21\n",
       "103. 32\n",
       "104. 85\n",
       "105. 49\n",
       "106. 28\n",
       "107. 29\n",
       "108. 33\n",
       "109. 60\n",
       "110. 1\n",
       "111. 18\n",
       "112. 20\n",
       "113. 22\n",
       "114. 24\n",
       "115. 40\n",
       "116. 45\n",
       "117. 47\n",
       "118. 99\n",
       "119. 5\n",
       "120. 8\n",
       "121. 26\n",
       "122. 27\n",
       "123. 36\n",
       "124. 41\n",
       "125. 44\n",
       "126. 50\n",
       "127. 61\n",
       "128. 94\n",
       "129. 2\n",
       "130. 10\n",
       "131. 35\n",
       "132. 38\n",
       "133. 58\n",
       "134. 107\n",
       "135. 12\n",
       "136. 13\n",
       "137. 25\n",
       "138. 31\n",
       "139. 46\n",
       "140. 3\n",
       "141. 30\n",
       "142. 4\n",
       "143. 7\n",
       "144. 23\n",
       "145. 48\n",
       "146. 42\n",
       "147. 9\n",
       "148. 39\n",
       "149. 43\n",
       "150. 14\n",
       "\n",
       "\n"
      ],
      "text/plain": [
       "  [1] 132 118 119 123 136 106 131 108 110 126 130 103  51  53 121 140 142  77\n",
       " [19] 113 144  66  78  87 109 125 141 145 146  59  76  55 105 111 117 148  52\n",
       " [37]  75 112 116 129 133 138  57  73  88 101 104 124 134 137 147  69  98 127\n",
       " [55] 149  64  72  74  92 128 135  63  79  84  86 120 139  62  71 150  15  68\n",
       " [73]  83  93 102 115 143  16  19  56  80  96  97 100 114  65  67  70  89  95\n",
       " [91] 122  34  37  54  81  82  90  91   6  11  17  21  32  85  49  28  29  33\n",
       "[109]  60   1  18  20  22  24  40  45  47  99   5   8  26  27  36  41  44  50\n",
       "[127]  61  94   2  10  35  38  58 107  12  13  25  31  46   3  30   4   7  23\n",
       "[145]  48  42   9  39  43  14"
      ]
     },
     "metadata": {},
     "output_type": "display_data"
    }
   ],
   "source": [
    "order(iris$Sepal.Length,decreasing = T)\n",
    "\n",
    "#表示iris$Sepal.Length中，數值最大的元素為第132個元素。"
   ]
  },
  {
   "cell_type": "code",
   "execution_count": 32,
   "metadata": {},
   "outputs": [
    {
     "data": {
      "text/html": [
       "7.9"
      ],
      "text/latex": [
       "7.9"
      ],
      "text/markdown": [
       "7.9"
      ],
      "text/plain": [
       "[1] 7.9"
      ]
     },
     "metadata": {},
     "output_type": "display_data"
    }
   ],
   "source": [
    "iris$Sepal.Length[132]"
   ]
  },
  {
   "cell_type": "code",
   "execution_count": 33,
   "metadata": {},
   "outputs": [
    {
     "data": {
      "text/html": [
       "<table>\n",
       "<thead><tr><th></th><th scope=col>Sepal.Length</th><th scope=col>Sepal.Width</th><th scope=col>Petal.Length</th><th scope=col>Petal.Width</th><th scope=col>Species</th></tr></thead>\n",
       "<tbody>\n",
       "\t<tr><th scope=row>132</th><td>7.9      </td><td>3.8      </td><td>6.4      </td><td>2.0      </td><td>virginica</td></tr>\n",
       "\t<tr><th scope=row>118</th><td>7.7      </td><td>3.8      </td><td>6.7      </td><td>2.2      </td><td>virginica</td></tr>\n",
       "\t<tr><th scope=row>119</th><td>7.7      </td><td>2.6      </td><td>6.9      </td><td>2.3      </td><td>virginica</td></tr>\n",
       "\t<tr><th scope=row>123</th><td>7.7      </td><td>2.8      </td><td>6.7      </td><td>2.0      </td><td>virginica</td></tr>\n",
       "\t<tr><th scope=row>136</th><td>7.7      </td><td>3.0      </td><td>6.1      </td><td>2.3      </td><td>virginica</td></tr>\n",
       "\t<tr><th scope=row>106</th><td>7.6      </td><td>3.0      </td><td>6.6      </td><td>2.1      </td><td>virginica</td></tr>\n",
       "</tbody>\n",
       "</table>\n"
      ],
      "text/latex": [
       "\\begin{tabular}{r|lllll}\n",
       "  & Sepal.Length & Sepal.Width & Petal.Length & Petal.Width & Species\\\\\n",
       "\\hline\n",
       "\t132 & 7.9       & 3.8       & 6.4       & 2.0       & virginica\\\\\n",
       "\t118 & 7.7       & 3.8       & 6.7       & 2.2       & virginica\\\\\n",
       "\t119 & 7.7       & 2.6       & 6.9       & 2.3       & virginica\\\\\n",
       "\t123 & 7.7       & 2.8       & 6.7       & 2.0       & virginica\\\\\n",
       "\t136 & 7.7       & 3.0       & 6.1       & 2.3       & virginica\\\\\n",
       "\t106 & 7.6       & 3.0       & 6.6       & 2.1       & virginica\\\\\n",
       "\\end{tabular}\n"
      ],
      "text/markdown": [
       "\n",
       "| <!--/--> | Sepal.Length | Sepal.Width | Petal.Length | Petal.Width | Species | \n",
       "|---|---|---|---|---|---|\n",
       "| 132 | 7.9       | 3.8       | 6.4       | 2.0       | virginica | \n",
       "| 118 | 7.7       | 3.8       | 6.7       | 2.2       | virginica | \n",
       "| 119 | 7.7       | 2.6       | 6.9       | 2.3       | virginica | \n",
       "| 123 | 7.7       | 2.8       | 6.7       | 2.0       | virginica | \n",
       "| 136 | 7.7       | 3.0       | 6.1       | 2.3       | virginica | \n",
       "| 106 | 7.6       | 3.0       | 6.6       | 2.1       | virginica | \n",
       "\n",
       "\n"
      ],
      "text/plain": [
       "    Sepal.Length Sepal.Width Petal.Length Petal.Width Species  \n",
       "132 7.9          3.8         6.4          2.0         virginica\n",
       "118 7.7          3.8         6.7          2.2         virginica\n",
       "119 7.7          2.6         6.9          2.3         virginica\n",
       "123 7.7          2.8         6.7          2.0         virginica\n",
       "136 7.7          3.0         6.1          2.3         virginica\n",
       "106 7.6          3.0         6.6          2.1         virginica"
      ]
     },
     "metadata": {},
     "output_type": "display_data"
    }
   ],
   "source": [
    "head(iris[order(iris$Sepal.Length,decreasing = T),]) ##改為由大到小排序的前六筆資料"
   ]
  },
  {
   "cell_type": "markdown",
   "metadata": {},
   "source": [
    "### [Part 5]. Social Network with R"
   ]
  },
  {
   "cell_type": "markdown",
   "metadata": {},
   "source": [
    " (Another Chapter)"
   ]
  }
 ],
 "metadata": {
  "kernelspec": {
   "display_name": "R 3.5",
   "language": "R",
   "name": "ir35"
  },
  "language_info": {
   "codemirror_mode": "r",
   "file_extension": ".r",
   "mimetype": "text/x-r-source",
   "name": "R",
   "pygments_lexer": "r",
   "version": "3.5.0"
  }
 },
 "nbformat": 4,
 "nbformat_minor": 2
}
